{
 "cells": [
  {
   "cell_type": "code",
   "execution_count": 2,
   "metadata": {},
   "outputs": [
    {
     "name": "stdout",
     "output_type": "stream",
     "text": [
      "Current directory: /home/ubuntu/arga-arc/tf_coder\n",
      "Root directory: /home/ubuntu/arga-arc\n"
     ]
    }
   ],
   "source": [
    "import os\n",
    "import sys\n",
    "from pathlib import Path\n",
    "\n",
    "CURRENT_DIRECTORY = Path(os.getcwd())\n",
    "ROOT_DIRECTORY = (CURRENT_DIRECTORY / \"..\").absolute().resolve()\n",
    "\n",
    "print(f\"Current directory: {CURRENT_DIRECTORY}\")\n",
    "print(f\"Root directory: {ROOT_DIRECTORY}\")\n",
    "\n",
    "sys.path.append(str(ROOT_DIRECTORY))"
   ]
  },
  {
   "cell_type": "code",
   "execution_count": 5,
   "metadata": {},
   "outputs": [
    {
     "name": "stdout",
     "output_type": "stream",
     "text": [
      "dict_keys(['OPENAI_SECRET_KEY', 'OPENAI_ORGANIZATION'])\n"
     ]
    }
   ],
   "source": [
    "import typing as t\n",
    "import json\n",
    "from pprint import pprint\n",
    "from dataclasses import dataclass\n",
    "import tensorflow as tf\n",
    "import numpy as np\n",
    "import math\n",
    "from config import CONFIG\n",
    "from openai import OpenAI\n",
    "import re\n",
    "from collections import Counter\n",
    "import random\n",
    "import ast\n",
    "\n",
    "pprint(CONFIG.__dict__.keys())\n",
    "\n",
    "OPENAI = OpenAI(api_key=CONFIG.OPENAI_SECRET_KEY, organization=CONFIG.OPENAI_ORGANIZATION)"
   ]
  },
  {
   "cell_type": "code",
   "execution_count": 7,
   "metadata": {},
   "outputs": [
    {
     "name": "stdout",
     "output_type": "stream",
     "text": [
      "{'completions': ['return tf.stack([tf.math.bincount(in1), in1], axis=1)',\n",
      "                 'return tf.stack([tf.divide(in1, tf.shape(in1)[0]), '\n",
      "                 'tf.mod(in1, tf.shape(in1)[0])], axis=1)',\n",
      "                 'return tf.stack([tf.math.floor_div(in1, tf.constant(2, '\n",
      "                 'dtype=tf.int32)), tf.math.floormod(in1, tf.constant(2, '\n",
      "                 'dtype=tf.int32))], axis=1)',\n",
      "                 'return tf.stack([tf.floor_div(in1, 2), tf.mod(in1, 2)], '\n",
      "                 'axis=1)',\n",
      "                 'return tf.stack([tf.math.floor_divide(in1, '\n",
      "                 'tf.shape(in1)[0]), tf.math.mod(in1, tf.shape(in1)[0])], '\n",
      "                 'axis=1)',\n",
      "                 'return tf.stack([tf.math.floor_divide(in1, '\n",
      "                 'tf.reduce_max(in1) + 1), tf.math.floormod(in1, '\n",
      "                 'tf.reduce_max(in1) + 1)], axis=1)',\n",
      "                 'return tf.stack([tf.math.floor_div(in1, tf.reduce_max(in1) + '\n",
      "                 '1), tf.math.floormod(in1, tf.reduce_max(in1) + 1)], axis=1)',\n",
      "                 'return tf.stack([tf.math.floor_div(in1, tf.reduce_max(in1) + '\n",
      "                 '1), tf.math.floormod(in1, tf.reduce_max(in1) + 1)], axis=1)',\n",
      "                 'return tf.stack([tf.math.bincount(in1), tf.cast(in1, '\n",
      "                 'tf.int32)], axis=1)',\n",
      "                 'return tf.stack([tf.divide(in1, tf.shape(in1)[0]), '\n",
      "                 'tf.math.bincount(in1)], axis=1)'],\n",
      " 'constants': '[]',\n",
      " 'description': 'Convert index tensor into pairs for SparseTensor indexing',\n",
      " 'examples': {'inputs': '[[0, 0, 0, 1, 3, 3],]',\n",
      "              'outputs': '[[0, 0], [0, 1], [0, 2], [1, 0], [3, 0], [3, 1]]'},\n",
      " 'name': 'google_01',\n",
      " 'response': {'completions': ['return tf.stack([tf.math.bincount(in1), in1], '\n",
      "                              'axis=1)',\n",
      "                              'return tf.stack([tf.divide(in1, '\n",
      "                              'tf.shape(in1)[0]), tf.mod(in1, '\n",
      "                              'tf.shape(in1)[0])], axis=1)',\n",
      "                              'return tf.stack([tf.math.floor_div(in1, '\n",
      "                              'tf.constant(2, dtype=tf.int32)), '\n",
      "                              'tf.math.floormod(in1, tf.constant(2, '\n",
      "                              'dtype=tf.int32))], axis=1)',\n",
      "                              'return tf.stack([tf.floor_div(in1, 2), '\n",
      "                              'tf.mod(in1, 2)], axis=1)',\n",
      "                              'return tf.stack([tf.math.floor_divide(in1, '\n",
      "                              'tf.shape(in1)[0]), tf.math.mod(in1, '\n",
      "                              'tf.shape(in1)[0])], axis=1)',\n",
      "                              'return tf.stack([tf.math.floor_divide(in1, '\n",
      "                              'tf.reduce_max(in1) + 1), tf.math.floormod(in1, '\n",
      "                              'tf.reduce_max(in1) + 1)], axis=1)',\n",
      "                              'return tf.stack([tf.math.floor_div(in1, '\n",
      "                              'tf.reduce_max(in1) + 1), tf.math.floormod(in1, '\n",
      "                              'tf.reduce_max(in1) + 1)], axis=1)',\n",
      "                              'return tf.stack([tf.math.floor_div(in1, '\n",
      "                              'tf.reduce_max(in1) + 1), tf.math.floormod(in1, '\n",
      "                              'tf.reduce_max(in1) + 1)], axis=1)',\n",
      "                              'return tf.stack([tf.math.bincount(in1), '\n",
      "                              'tf.cast(in1, tf.int32)], axis=1)',\n",
      "                              'return tf.stack([tf.divide(in1, '\n",
      "                              'tf.shape(in1)[0]), tf.math.bincount(in1)], '\n",
      "                              'axis=1)'],\n",
      "              'coverage_percentage': 60.0,\n",
      "              'description': 'Convert index tensor into pairs for SparseTensor '\n",
      "                             'indexing',\n",
      "              'target-program': 'tf.cast(tf.where(tf.sequence_mask(tf.math.bincount(in1))), '\n",
      "                                'tf.int32)',\n",
      "              'task_id': 'google_01',\n",
      "              'tf_operators': {'tf.cast': 1,\n",
      "                               'tf.constant': 1,\n",
      "                               'tf.divide': 2,\n",
      "                               'tf.floor_div': 1,\n",
      "                               'tf.int32': 2,\n",
      "                               'tf.math.bincount': 3,\n",
      "                               'tf.math.floor_div': 3,\n",
      "                               'tf.math.floor_divide': 2,\n",
      "                               'tf.math.floormod': 4,\n",
      "                               'tf.math.mod': 1,\n",
      "                               'tf.mod': 2,\n",
      "                               'tf.reduce_max': 3,\n",
      "                               'tf.shape': 3,\n",
      "                               'tf.stack': 10},\n",
      "              'total_covered': 3,\n",
      "              'total_in_target': 5},\n",
      " 'source': 'From an internal Google chat room, 09/07/2018',\n",
      " 'target_program': 'tf.cast(tf.where(tf.sequence_mask(tf.math.bincount(in1))), '\n",
      "                   'tf.int32)'}\n"
     ]
    }
   ],
   "source": [
    "OUTPUTS = CURRENT_DIRECTORY / \"tfcoder_dataset_with_completions.in_context_ordered_by_weight.json\"\n",
    "OUTPUTS_JSON = json.loads(OUTPUTS.read_text())\n",
    "\n",
    "pprint(OUTPUTS_JSON[0])"
   ]
  },
  {
   "cell_type": "code",
   "execution_count": 76,
   "metadata": {},
   "outputs": [
    {
     "name": "stdout",
     "output_type": "stream",
     "text": [
      "72\n",
      "['return tf.stack([tf.math.bincount(in1), in1], axis=1)',\n",
      " 'return tf.stack([tf.divide(in1, tf.shape(in1)[0]), tf.mod(in1, '\n",
      " 'tf.shape(in1)[0])], axis=1)',\n",
      " 'return tf.stack([tf.math.floor_div(in1, tf.constant(2, dtype=tf.int32)), '\n",
      " 'tf.math.floormod(in1, tf.constant(2, dtype=tf.int32))], axis=1)',\n",
      " 'return tf.stack([tf.floor_div(in1, 2), tf.mod(in1, 2)], axis=1)',\n",
      " 'return tf.stack([tf.math.floor_divide(in1, tf.shape(in1)[0]), '\n",
      " 'tf.math.mod(in1, tf.shape(in1)[0])], axis=1)',\n",
      " 'return tf.stack([tf.math.floor_divide(in1, tf.reduce_max(in1) + 1), '\n",
      " 'tf.math.floormod(in1, tf.reduce_max(in1) + 1)], axis=1)',\n",
      " 'return tf.stack([tf.math.floor_div(in1, tf.reduce_max(in1) + 1), '\n",
      " 'tf.math.floormod(in1, tf.reduce_max(in1) + 1)], axis=1)',\n",
      " 'return tf.stack([tf.math.floor_div(in1, tf.reduce_max(in1) + 1), '\n",
      " 'tf.math.floormod(in1, tf.reduce_max(in1) + 1)], axis=1)',\n",
      " 'return tf.stack([tf.math.bincount(in1), tf.cast(in1, tf.int32)], axis=1)',\n",
      " 'return tf.stack([tf.divide(in1, tf.shape(in1)[0]), tf.math.bincount(in1)], '\n",
      " 'axis=1)']\n"
     ]
    }
   ],
   "source": [
    "COMPLETIONSES = [\n",
    "    output['response']['completions'] if 'response' in output else None \n",
    "    for output in OUTPUTS_JSON\n",
    "]\n",
    "\n",
    "print(len(COMPLETIONSES))\n",
    "pprint(COMPLETIONSES[0])"
   ]
  },
  {
   "cell_type": "code",
   "execution_count": 112,
   "metadata": {},
   "outputs": [],
   "source": [
    "TEST_COMPLETIONS = [\n",
    "    COMPLETIONSES[0][0],\n",
    "    \"return tf.pad(in1, [[0,0],[0,1]])\",\n",
    "    \"return tf.gather(in1, in2, batch_dims=1)\",\n",
    "    \"indices = tf.stack([tf.range(tf.shape(in2)[0]), in2], axis=1)\\nreturn tf.gather_nd(in1, indices)\",\n",
    "    \"return tf.cast(tf.sequence_mask(in1, maxlen=tf.reduce_max(in1)), tf.int32)\",\n",
    "    \"return tf.where(in1, in2, tf.multiply(in2, tf.constant(-10)))\",\n",
    "    \"return tf.tensor_scatter_nd_update(in1['tensor'], in1['indices'], in1['updates'])\",\n",
    "    \"return tf.reduce_any(tf.one_hot(in1, 9), axis=1, keepdims=False)\",\n",
    "]\n",
    "TEST_ASTS = [ast.parse(completion) for completion in TEST_COMPLETIONS]"
   ]
  },
  {
   "cell_type": "code",
   "execution_count": 113,
   "metadata": {},
   "outputs": [],
   "source": [
    "def normalize_completion(completion: str) -> str:\n",
    "    lines = completion.split(\"\\n\")\n",
    "    normalized_lines = []\n",
    "    for line in lines:\n",
    "        normalized_line = re.sub(r\"([\\s]+)return\", \"return\", line)\n",
    "        normalized_line = re.sub(r\"([\\s]+)([a-zA-Z_][a-zA-Z0-9_]*)([\\s]+)=\", r\"\\2 =\", normalized_line)\n",
    "        normalized_lines.append(normalized_line)\n",
    "    normalized_completion = \"\\n\".join(normalized_lines)\n",
    "    return normalized_completion"
   ]
  },
  {
   "cell_type": "code",
   "execution_count": 117,
   "metadata": {},
   "outputs": [
    {
     "name": "stdout",
     "output_type": "stream",
     "text": [
      "return tf.stack([tf.math.bincount(in1), in1], axis=1)\n",
      "[1]\n",
      "\n",
      "return tf.pad(in1, [[0,0],[0,1]])\n",
      "[0, 0, 0, 1]\n",
      "\n",
      "return tf.gather(in1, in2, batch_dims=1)\n",
      "[1]\n",
      "\n",
      "indices = tf.stack([tf.range(tf.shape(in2)[0]), in2], axis=1)\n",
      "return tf.gather_nd(in1, indices)\n",
      "[0, 1]\n",
      "\n",
      "return tf.cast(tf.sequence_mask(in1, maxlen=tf.reduce_max(in1)), tf.int32)\n",
      "[]\n",
      "\n",
      "return tf.where(in1, in2, tf.multiply(in2, tf.constant(-10)))\n",
      "[-10]\n",
      "\n",
      "return tf.tensor_scatter_nd_update(in1['tensor'], in1['indices'], in1['updates'])\n",
      "[]\n",
      "\n",
      "return tf.reduce_any(tf.one_hot(in1, 9), axis=1, keepdims=False)\n",
      "[9, 1]\n",
      "\n"
     ]
    }
   ],
   "source": [
    "class ConstantVisitor(ast.NodeVisitor):\n",
    "    def __init__(self):\n",
    "        self.constants = []\n",
    "    \n",
    "    def visit_Constant(self, node: ast.Constant):\n",
    "        if type(node.value) == int:\n",
    "            self.constants.append(node.value)\n",
    "\n",
    "    def visit_UnaryOp(self, node: ast.UnaryOp):\n",
    "        if isinstance(node.op, ast.USub) and isinstance(node.operand, ast.Constant):\n",
    "            self.constants.append(-node.operand.value)\n",
    "        else:\n",
    "            self.generic_visit(node)\n",
    "\n",
    "def get_constants(ast_node: ast.Module) -> t.List[str]:\n",
    "    visitor = ConstantVisitor()\n",
    "    visitor.visit(ast_node)\n",
    "    return visitor.constants\n",
    "\n",
    "for completion, ast_ in zip(TEST_COMPLETIONS, TEST_ASTS):\n",
    "    print(completion)\n",
    "    print(get_constants(ast_))\n",
    "    print()\n"
   ]
  },
  {
   "cell_type": "code",
   "execution_count": 118,
   "metadata": {},
   "outputs": [
    {
     "name": "stdout",
     "output_type": "stream",
     "text": [
      "# completion\n",
      "return tf.where(in1, in2, tf.multiply(-10, tf.range(tf.shape(in2)[0]));\n",
      "\n",
      "# normalized_completion\n",
      "return tf.where(in1, in2, tf.multiply(-10, tf.range(tf.shape(in2)[0]));\n",
      "\n",
      "# error\n",
      "invalid syntax (<unknown>, line 1)\n",
      "\n",
      "\n",
      "72\n",
      "[<ast.Module object at 0x7fc6e1533fd0>,\n",
      " <ast.Module object at 0x7fc6e1530250>,\n",
      " <ast.Module object at 0x7fc6e1533b20>,\n",
      " <ast.Module object at 0x7fc6e1530220>,\n",
      " <ast.Module object at 0x7fc6e1530cd0>,\n",
      " <ast.Module object at 0x7fc6e1530280>,\n",
      " <ast.Module object at 0x7fc6e1530af0>,\n",
      " <ast.Module object at 0x7fc6e1530850>,\n",
      " <ast.Module object at 0x7fc6e05a7400>,\n",
      " <ast.Module object at 0x7fc6e05a7760>]\n"
     ]
    }
   ],
   "source": [
    "ASTSES = []\n",
    "\n",
    "for completions in COMPLETIONSES:\n",
    "    if completions is None:\n",
    "        ASTSES.append(None)\n",
    "        continue\n",
    "    \n",
    "    asts = []\n",
    "    for completion in completions:\n",
    "        try:\n",
    "            asts.append(ast.parse(completion))\n",
    "            continue\n",
    "        except SyntaxError as e:\n",
    "            pass\n",
    "\n",
    "        normalized_completion = normalize_completion(completion) \n",
    "        try:\n",
    "            asts.append(ast.parse(normalized_completion))\n",
    "        except SyntaxError as e:\n",
    "            print(\"# completion\")\n",
    "            print(completion)\n",
    "            print()\n",
    "            print(\"# normalized_completion\")\n",
    "            print(normalized_completion)\n",
    "            print()\n",
    "            print(\"# error\")\n",
    "            print(e)\n",
    "            print()\n",
    "            print()\n",
    "            asts.append(None) \n",
    "        \n",
    "    ASTSES.append(asts)\n",
    "\n",
    "print(len(ASTSES))\n",
    "pprint(ASTSES[0])"
   ]
  },
  {
   "cell_type": "code",
   "execution_count": 119,
   "metadata": {},
   "outputs": [
    {
     "name": "stdout",
     "output_type": "stream",
     "text": [
      "72\n",
      "[[1],\n",
      " [0, 0, 1],\n",
      " [2, 2, 1],\n",
      " [2, 2, 1],\n",
      " [0, 0, 1],\n",
      " [1, 1, 1],\n",
      " [1, 1, 1],\n",
      " [1, 1, 1],\n",
      " [1],\n",
      " [0, 1]]\n"
     ]
    }
   ],
   "source": [
    "CONSTANTSES = [\n",
    "    [\n",
    "        get_constants(ast_node) if ast_node is not None else None \n",
    "        for ast_node in ast_nodes\n",
    "    ] if ast_nodes is not None else None\n",
    "    for ast_nodes in ASTSES \n",
    "]\n",
    "\n",
    "print(len(CONSTANTSES))\n",
    "pprint(CONSTANTSES[0])"
   ]
  },
  {
   "cell_type": "code",
   "execution_count": 120,
   "metadata": {},
   "outputs": [
    {
     "name": "stdout",
     "output_type": "stream",
     "text": [
      "{'completions': ['return tf.stack([tf.math.bincount(in1), in1], axis=1)',\n",
      "                 'return tf.stack([tf.divide(in1, tf.shape(in1)[0]), '\n",
      "                 'tf.mod(in1, tf.shape(in1)[0])], axis=1)',\n",
      "                 'return tf.stack([tf.math.floor_div(in1, tf.constant(2, '\n",
      "                 'dtype=tf.int32)), tf.math.floormod(in1, tf.constant(2, '\n",
      "                 'dtype=tf.int32))], axis=1)',\n",
      "                 'return tf.stack([tf.floor_div(in1, 2), tf.mod(in1, 2)], '\n",
      "                 'axis=1)',\n",
      "                 'return tf.stack([tf.math.floor_divide(in1, '\n",
      "                 'tf.shape(in1)[0]), tf.math.mod(in1, tf.shape(in1)[0])], '\n",
      "                 'axis=1)',\n",
      "                 'return tf.stack([tf.math.floor_divide(in1, '\n",
      "                 'tf.reduce_max(in1) + 1), tf.math.floormod(in1, '\n",
      "                 'tf.reduce_max(in1) + 1)], axis=1)',\n",
      "                 'return tf.stack([tf.math.floor_div(in1, tf.reduce_max(in1) + '\n",
      "                 '1), tf.math.floormod(in1, tf.reduce_max(in1) + 1)], axis=1)',\n",
      "                 'return tf.stack([tf.math.floor_div(in1, tf.reduce_max(in1) + '\n",
      "                 '1), tf.math.floormod(in1, tf.reduce_max(in1) + 1)], axis=1)',\n",
      "                 'return tf.stack([tf.math.bincount(in1), tf.cast(in1, '\n",
      "                 'tf.int32)], axis=1)',\n",
      "                 'return tf.stack([tf.divide(in1, tf.shape(in1)[0]), '\n",
      "                 'tf.math.bincount(in1)], axis=1)'],\n",
      " 'constants': '[]',\n",
      " 'description': 'Convert index tensor into pairs for SparseTensor indexing',\n",
      " 'examples': {'inputs': '[[0, 0, 0, 1, 3, 3],]',\n",
      "              'outputs': '[[0, 0], [0, 1], [0, 2], [1, 0], [3, 0], [3, 1]]'},\n",
      " 'name': 'google_01',\n",
      " 'response': {'all_constants': [0, 1, 2],\n",
      "              'completions': ['return tf.stack([tf.math.bincount(in1), in1], '\n",
      "                              'axis=1)',\n",
      "                              'return tf.stack([tf.divide(in1, '\n",
      "                              'tf.shape(in1)[0]), tf.mod(in1, '\n",
      "                              'tf.shape(in1)[0])], axis=1)',\n",
      "                              'return tf.stack([tf.math.floor_div(in1, '\n",
      "                              'tf.constant(2, dtype=tf.int32)), '\n",
      "                              'tf.math.floormod(in1, tf.constant(2, '\n",
      "                              'dtype=tf.int32))], axis=1)',\n",
      "                              'return tf.stack([tf.floor_div(in1, 2), '\n",
      "                              'tf.mod(in1, 2)], axis=1)',\n",
      "                              'return tf.stack([tf.math.floor_divide(in1, '\n",
      "                              'tf.shape(in1)[0]), tf.math.mod(in1, '\n",
      "                              'tf.shape(in1)[0])], axis=1)',\n",
      "                              'return tf.stack([tf.math.floor_divide(in1, '\n",
      "                              'tf.reduce_max(in1) + 1), tf.math.floormod(in1, '\n",
      "                              'tf.reduce_max(in1) + 1)], axis=1)',\n",
      "                              'return tf.stack([tf.math.floor_div(in1, '\n",
      "                              'tf.reduce_max(in1) + 1), tf.math.floormod(in1, '\n",
      "                              'tf.reduce_max(in1) + 1)], axis=1)',\n",
      "                              'return tf.stack([tf.math.floor_div(in1, '\n",
      "                              'tf.reduce_max(in1) + 1), tf.math.floormod(in1, '\n",
      "                              'tf.reduce_max(in1) + 1)], axis=1)',\n",
      "                              'return tf.stack([tf.math.bincount(in1), '\n",
      "                              'tf.cast(in1, tf.int32)], axis=1)',\n",
      "                              'return tf.stack([tf.divide(in1, '\n",
      "                              'tf.shape(in1)[0]), tf.math.bincount(in1)], '\n",
      "                              'axis=1)'],\n",
      "              'constants': [[1],\n",
      "                            [0, 0, 1],\n",
      "                            [2, 2, 1],\n",
      "                            [2, 2, 1],\n",
      "                            [0, 0, 1],\n",
      "                            [1, 1, 1],\n",
      "                            [1, 1, 1],\n",
      "                            [1, 1, 1],\n",
      "                            [1],\n",
      "                            [0, 1]],\n",
      "              'coverage_percentage': 60.0,\n",
      "              'description': 'Convert index tensor into pairs for SparseTensor '\n",
      "                             'indexing',\n",
      "              'target-program': 'tf.cast(tf.where(tf.sequence_mask(tf.math.bincount(in1))), '\n",
      "                                'tf.int32)',\n",
      "              'task_id': 'google_01',\n",
      "              'tf_operators': {'tf.cast': 1,\n",
      "                               'tf.constant': 1,\n",
      "                               'tf.divide': 2,\n",
      "                               'tf.floor_div': 1,\n",
      "                               'tf.int32': 2,\n",
      "                               'tf.math.bincount': 3,\n",
      "                               'tf.math.floor_div': 3,\n",
      "                               'tf.math.floor_divide': 2,\n",
      "                               'tf.math.floormod': 4,\n",
      "                               'tf.math.mod': 1,\n",
      "                               'tf.mod': 2,\n",
      "                               'tf.reduce_max': 3,\n",
      "                               'tf.shape': 3,\n",
      "                               'tf.stack': 10},\n",
      "              'total_covered': 3,\n",
      "              'total_in_target': 5},\n",
      " 'source': 'From an internal Google chat room, 09/07/2018',\n",
      " 'target_program': 'tf.cast(tf.where(tf.sequence_mask(tf.math.bincount(in1))), '\n",
      "                   'tf.int32)'}\n"
     ]
    }
   ],
   "source": [
    "for output, constants in zip(OUTPUTS_JSON, CONSTANTSES):\n",
    "    if 'response' not in output:\n",
    "        continue\n",
    "    output['response']['constants'] = constants\n",
    "    output['response']['all_constants'] = list(set([\n",
    "        constant \n",
    "        for constants in constants if constants is not None \n",
    "        for constant in constants\n",
    "    ]))\n",
    "\n",
    "pprint(OUTPUTS_JSON[0])"
   ]
  },
  {
   "cell_type": "code",
   "execution_count": 121,
   "metadata": {},
   "outputs": [
    {
     "data": {
      "text/plain": [
       "259704"
      ]
     },
     "execution_count": 121,
     "metadata": {},
     "output_type": "execute_result"
    }
   ],
   "source": [
    "OUTPUT_FILE = CURRENT_DIRECTORY / \"tfcoder_dataset_with_completions_and_constants.json\"\n",
    "OUTPUT_FILE.write_text(json.dumps(OUTPUTS_JSON, indent=4))"
   ]
  }
 ],
 "metadata": {
  "kernelspec": {
   "display_name": ".venv",
   "language": "python",
   "name": "python3"
  },
  "language_info": {
   "codemirror_mode": {
    "name": "ipython",
    "version": 3
   },
   "file_extension": ".py",
   "mimetype": "text/x-python",
   "name": "python",
   "nbconvert_exporter": "python",
   "pygments_lexer": "ipython3",
   "version": "3.10.12"
  }
 },
 "nbformat": 4,
 "nbformat_minor": 2
}
