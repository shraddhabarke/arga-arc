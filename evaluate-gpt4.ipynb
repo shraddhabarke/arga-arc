{
 "cells": [
  {
   "cell_type": "code",
   "execution_count": 1,
   "metadata": {},
   "outputs": [
    {
     "name": "stdout",
     "output_type": "stream",
     "text": [
      "/home/ubuntu/arga-arc\n"
     ]
    }
   ],
   "source": [
    "from pathlib import Path\n",
    "import sys\n",
    "import os\n",
    "import typing as t\n",
    "\n",
    "current_dir = os.path.dirname(os.path.abspath(\"\"))\n",
    "print(current_dir)\n",
    "sys.path.append(current_dir)"
   ]
  },
  {
   "cell_type": "code",
   "execution_count": 2,
   "metadata": {},
   "outputs": [],
   "source": [
    "TASK_ID = \"7f4411dc\" # \"08ed6ac7\"\n",
    "ABSTRACTION = \"lrg\""
   ]
  },
  {
   "cell_type": "markdown",
   "metadata": {},
   "source": [
    "# evaluate GPT4 responses directly"
   ]
  },
  {
   "cell_type": "markdown",
   "metadata": {},
   "source": [
    "## parse a program from gpt-4"
   ]
  },
  {
   "cell_type": "code",
   "execution_count": 3,
   "metadata": {},
   "outputs": [],
   "source": [
    "FILE = (Path(\"..\") / f\"dsl/gens/gens_20231120/{TASK_ID}_correct.txt\").resolve().absolute()"
   ]
  },
  {
   "cell_type": "code",
   "execution_count": 4,
   "metadata": {},
   "outputs": [
    {
     "name": "stdout",
     "output_type": "stream",
     "text": [
      "/home/ubuntu/arga-arc/dsl/gens/gens_20231120/7f4411dc_correct.txt\n",
      "29 programs parsed\n",
      "3\n",
      "RuleList(rules=[_Rule(filter_op=FilterByColor(color=Color(value='F')), transforms=Transforms(transforms=[UpdateColor(color=Color(value='A'))]))])\n"
     ]
    },
    {
     "data": {
      "text/plain": [
       "DoOperation(rule_list=[RuleList(rules=[_Rule(filter_op=FilterByColor(color=Color(value='O')), transforms=Transforms(transforms=[UpdateColor(color=Color(value='F'))]))]), RuleList(rules=[_Rule(filter_op=FilterByColor(color=Color(value='A')), transforms=Transforms(transforms=[UpdateColor(color=Color(value='O'))]))]), RuleList(rules=[_Rule(filter_op=FilterByColor(color=Color(value='F')), transforms=Transforms(transforms=[UpdateColor(color=Color(value='A'))]))])])"
      ]
     },
     "execution_count": 4,
     "metadata": {},
     "output_type": "execute_result"
    }
   ],
   "source": [
    "from arga_ast_generator import parse, DoOperation\n",
    "\n",
    "print(FILE)\n",
    "with open (FILE, \"r\") as f:\n",
    "    program = f.read()\n",
    "\n",
    "ast_program = parse(program)\n",
    "programs: t.List[DoOperation] = ast_program.children\n",
    "\n",
    "print(str(len(programs)) + \" programs parsed\")\n",
    "print(len(programs[1].rule_list))\n",
    "print(programs[1].rule_list[2])\n",
    "programs[1]"
   ]
  },
  {
   "cell_type": "code",
   "execution_count": 5,
   "metadata": {},
   "outputs": [
    {
     "data": {
      "text/plain": [
       "<task.Task at 0x7efe9ca43a60>"
      ]
     },
     "execution_count": 5,
     "metadata": {},
     "output_type": "execute_result"
    }
   ],
   "source": [
    "TASK_PATH = Path(\"..\") / \"dataset\" / f\"{TASK_ID}.json\"\n",
    "\n",
    "from task import Task\n",
    "\n",
    "TASK = Task(str(TASK_PATH.resolve()))\n",
    "TASK"
   ]
  },
  {
   "cell_type": "code",
   "execution_count": 6,
   "metadata": {},
   "outputs": [],
   "source": [
    "from filters import setup_size_and_degree_based_on_task\n",
    "from image import Image\n",
    "\n",
    "TASK.abstraction = ABSTRACTION\n",
    "TASK.input_abstracted_graphs_original[TASK.abstraction] = [\n",
    "    getattr(input, Image.abstraction_ops[TASK.abstraction])() for\n",
    "    input in TASK.train_input\n",
    "]\n",
    "TASK.get_static_object_attributes(TASK.abstraction)\n",
    "setup_size_and_degree_based_on_task(TASK)"
   ]
  },
  {
   "cell_type": "markdown",
   "metadata": {},
   "source": [
    "## convert the parsed program to the evaluable AST"
   ]
  },
  {
   "cell_type": "code",
   "execution_count": 7,
   "metadata": {},
   "outputs": [
    {
     "data": {
      "text/plain": [
       "[(<filters.FilterBySize at 0x7efe5bd628c0>,\n",
       "  [<transform.UpdateColor at 0x7efe5bd62920>])]"
      ]
     },
     "execution_count": 7,
     "metadata": {},
     "output_type": "execute_result"
    }
   ],
   "source": [
    "from evaluate_gpt4 import convert_ast_to_executable\n",
    "\n",
    "executable_program= convert_ast_to_executable(programs[11])\n",
    "executable_program"
   ]
  },
  {
   "cell_type": "markdown",
   "metadata": {},
   "source": [
    "## evaluate the transform and check if it's correct"
   ]
  },
  {
   "cell_type": "code",
   "execution_count": null,
   "metadata": {},
   "outputs": [],
   "source": []
  },
  {
   "cell_type": "code",
   "execution_count": 8,
   "metadata": {},
   "outputs": [
    {
     "name": "stdout",
     "output_type": "stream",
     "text": [
      "test input <image.Image object at 0x7efe5bfb7880>\n",
      "transformed[0] <image.Image object at 0x7efe5bfb7880>\n",
      "test input grid [[0, 0, 0, 0, 0, 0, 0, 0, 0, 8], [0, 8, 0, 0, 0, 0, 0, 8, 0, 0], [0, 8, 8, 8, 0, 0, 0, 0, 0, 0], [0, 8, 8, 8, 0, 0, 0, 8, 0, 0], [8, 0, 0, 0, 0, 0, 0, 0, 0, 0], [0, 0, 0, 0, 8, 8, 8, 8, 8, 8], [0, 0, 0, 0, 8, 8, 8, 8, 8, 0], [8, 0, 0, 0, 8, 8, 8, 8, 8, 0], [0, 0, 8, 0, 0, 0, 0, 0, 0, 0], [0, 0, 0, 0, 8, 0, 0, 0, 0, 8]]\n",
      "transformed[0] grid [[0, 0, 0, 0, 0, 0, 0, 0, 0, 8], [0, 8, 0, 0, 0, 0, 0, 8, 0, 0], [0, 8, 8, 8, 0, 0, 0, 0, 0, 0], [0, 8, 8, 8, 0, 0, 0, 8, 0, 0], [8, 0, 0, 0, 0, 0, 0, 0, 0, 0], [0, 0, 0, 0, 8, 8, 8, 8, 8, 8], [0, 0, 0, 0, 8, 8, 8, 8, 8, 0], [8, 0, 0, 0, 8, 8, 8, 8, 8, 0], [0, 0, 8, 0, 0, 0, 0, 0, 0, 0], [0, 0, 0, 0, 8, 0, 0, 0, 0, 8]]\n"
     ]
    },
    {
     "data": {
      "image/png": "[encoded data removed]",
      "text/plain": [
       "<Figure size 640x480 with 1 Axes>"
      ]
     },
     "metadata": {},
     "output_type": "display_data"
    },
    {
     "data": {
      "image/png": "[encoded data removed]",
      "text/plain": [
       "<Figure size 640x480 with 1 Axes>"
      ]
     },
     "metadata": {},
     "output_type": "display_data"
    },
    {
     "data": {
      "image/png": "[encoded data removed]",
      "text/plain": [
       "<Figure size 640x480 with 1 Axes>"
      ]
     },
     "metadata": {},
     "output_type": "display_data"
    }
   ],
   "source": [
    "transformed = TASK.evaluate_program(executable_program, ABSTRACTION)\n",
    "transformed\n",
    "from scratch.show import print_grid\n",
    "\n",
    "print(\"test input\", TASK.test_input[0])\n",
    "print(\"transformed[0]\", transformed[0].image)\n",
    "\n",
    "print(\"test input grid\", TASK.test_input[0].grid)\n",
    "print(\"transformed[0] grid\", transformed[0].image.grid)\n",
    "\n",
    "\n",
    "print_grid(TASK.test_input[0].grid, title=\"test input\")\n",
    "print_grid(TASK.test_output[0].grid, title=\"test output\")\n",
    "\n",
    "\n",
    "for idx, tf in enumerate(transformed):\n",
    "    print_grid(tf.compute_grid(),title=f\"transformed[{idx}]\")\n",
    "\n"
   ]
  },
  {
   "cell_type": "code",
   "execution_count": 9,
   "metadata": {},
   "outputs": [
    {
     "name": "stdout",
     "output_type": "stream",
     "text": [
      "True\n"
     ]
    }
   ],
   "source": [
    "test_results = TASK.test_program(executable_program, ABSTRACTION)\n",
    "print(test_results)"
   ]
  },
  {
   "cell_type": "code",
   "execution_count": 10,
   "metadata": {},
   "outputs": [],
   "source": [
    "def compute_num_correct_programs(programs: t.List[DoOperation]) -> int:\n",
    "    num_correct = 0\n",
    "    for program in programs:\n",
    "        executable_program = convert_ast_to_executable(program)\n",
    "        test_results = TASK.test_program(executable_program, ABSTRACTION)\n",
    "        if test_results:\n",
    "            num_correct += 1\n",
    "    return num_correct"
   ]
  },
  {
   "cell_type": "code",
   "execution_count": 11,
   "metadata": {},
   "outputs": [
    {
     "data": {
      "text/plain": [
       "2"
      ]
     },
     "execution_count": 11,
     "metadata": {},
     "output_type": "execute_result"
    }
   ],
   "source": [
    "compute_num_correct_programs(programs)"
   ]
  },
  {
   "cell_type": "code",
   "execution_count": null,
   "metadata": {},
   "outputs": [],
   "source": []
  }
 ],
 "metadata": {
  "kernelspec": {
   "display_name": ".venv",
   "language": "python",
   "name": "python3"
  },
  "language_info": {
   "codemirror_mode": {
    "name": "ipython",
    "version": 3
   },
   "file_extension": ".py",
   "mimetype": "text/x-python",
   "name": "python",
   "nbconvert_exporter": "python",
   "pygments_lexer": "ipython3",
   "version": "3.10.12"
  }
 },
 "nbformat": 4,
 "nbformat_minor": 2
}
