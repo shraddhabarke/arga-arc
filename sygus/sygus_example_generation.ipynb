{
 "cells": [
  {
   "cell_type": "markdown",
   "metadata": {},
   "source": [
    "# Example Generation"
   ]
  },
  {
   "cell_type": "code",
   "execution_count": 1,
   "metadata": {},
   "outputs": [
    {
     "name": "stdout",
     "output_type": "stream",
     "text": [
      "Current directory: /home/ubuntu/arga-arc/sygus\n",
      "Root directory: /home/ubuntu/arga-arc\n"
     ]
    }
   ],
   "source": [
    "import os\n",
    "import sys\n",
    "from pathlib import Path\n",
    "\n",
    "CURRENT_DIRECTORY = Path(os.getcwd())\n",
    "ROOT_DIRECTORY = (CURRENT_DIRECTORY / \"..\").absolute().resolve()\n",
    "\n",
    "print(f\"Current directory: {CURRENT_DIRECTORY}\")\n",
    "print(f\"Root directory: {ROOT_DIRECTORY}\")\n",
    "\n",
    "sys.path.append(str(ROOT_DIRECTORY))"
   ]
  },
  {
   "cell_type": "code",
   "execution_count": 2,
   "metadata": {},
   "outputs": [
    {
     "name": "stdout",
     "output_type": "stream",
     "text": [
      "Current directory: /home/ubuntu/arga-arc/sygus\n",
      "Root directory: /home/ubuntu/arga-arc\n"
     ]
    }
   ],
   "source": [
    "from sygus.utils import sample_gpt_solutions, SygusProblem, SygusBenchmark, cleanup_completion, add_sygus_prefix, is_comment, is_synth_fun, get_synth_fun, get_constraints, ModelName, get_function_definitions, OPENAI_MODEL_NAMES, OPENAI, TOGETHER_MODEL_NAMES, TOGETHER"
   ]
  },
  {
   "cell_type": "code",
   "execution_count": 3,
   "metadata": {},
   "outputs": [],
   "source": [
    "import typing as t\n",
    "from pprint import pprint\n",
    "from dataclasses import dataclass\n",
    "import sexpdata as sexp\n",
    "from sexpdata import Symbol\n",
    "import json\n",
    "import random\n",
    "import math\n",
    "import re\n",
    "import datetime"
   ]
  },
  {
   "cell_type": "code",
   "execution_count": 4,
   "metadata": {},
   "outputs": [],
   "source": [
    "BENCHMARKS_DIRECTORY = ROOT_DIRECTORY / \"sygus/Probe/src/test/benchmarks\"\n",
    "CIRCUIT_DIRECTORY = BENCHMARKS_DIRECTORY / \"circuit/test\"\n",
    "HACKERS_DELIGHT_DIRECTORY = BENCHMARKS_DIRECTORY / \"hackers-delight\"\n",
    "LARGER_STRING_GRAMMAR_DIRECTORY = BENCHMARKS_DIRECTORY / \"larger-grammar\"\n",
    "STRING_GRAMMAR_DIRECTORY = BENCHMARKS_DIRECTORY / \"string\""
   ]
  },
  {
   "cell_type": "markdown",
   "metadata": {},
   "source": [
    "## Hackers Delight"
   ]
  },
  {
   "cell_type": "code",
   "execution_count": 5,
   "metadata": {},
   "outputs": [
    {
     "name": "stdout",
     "output_type": "stream",
     "text": [
      "hd-25.sl\n",
      "hd-24.sl\n",
      "hd-09.sl\n",
      "hd-26.sl\n",
      "hd-27.sl\n",
      "hd-08.sl\n",
      "hd-23.sl\n",
      "hd-22.sl\n",
      "hd-18.sl\n",
      "hd-20.sl\n",
      "hd-21.sl\n",
      "hd-19.sl\n",
      "hd-07.sl\n",
      "hd-10.sl\n",
      "hd-11.sl\n",
      "hd-06.sl\n",
      "hd-04.sl\n",
      "hd-13.sl\n",
      "hd-12.sl\n",
      "hd-05.sl\n",
      "hd-16.sl\n",
      "hd-01.sl\n",
      "hd-17.sl\n",
      "hd-15.sl\n",
      "hd-02.sl\n",
      "hd-03.sl\n",
      "hd-14.sl\n"
     ]
    }
   ],
   "source": [
    "HACKERS_DELIGHT_PROBLEMS = {}\n",
    "HACKERS_DELIGHT_COMMENTS = {}\n",
    "\n",
    "for file in HACKERS_DELIGHT_DIRECTORY.iterdir():\n",
    "    print(file.name)\n",
    "    with open(file, \"r\") as f:\n",
    "        contents = file.read_text()\n",
    "        HACKERS_DELIGHT_PROBLEMS[file.name] = sexp.loads(contents)\n",
    "        HACKERS_DELIGHT_COMMENTS[file.name] = [\n",
    "            line for line in contents.split(\"\\n\") if is_comment(line)\n",
    "        ]\n"
   ]
  },
  {
   "cell_type": "code",
   "execution_count": 6,
   "metadata": {},
   "outputs": [
    {
     "name": "stdout",
     "output_type": "stream",
     "text": [
      "[Symbol('synth-fun'),\n",
      " Symbol('f'),\n",
      " [[Symbol('x'), [Symbol('BitVec'), 64]], [Symbol('y'), [Symbol('BitVec'), 64]]],\n",
      " [Symbol('BitVec'), 64],\n",
      " [[Symbol('Start'),\n",
      "   [Symbol('BitVec'), 64],\n",
      "   [[Symbol('bvnot'), Symbol('Start')],\n",
      "    [Symbol('bvxor'), Symbol('Start'), Symbol('Start')],\n",
      "    [Symbol('bvand'), Symbol('Start'), Symbol('Start')],\n",
      "    [Symbol('bvor'), Symbol('Start'), Symbol('Start')],\n",
      "    [Symbol('bvneg'), Symbol('Start')],\n",
      "    [Symbol('bvadd'), Symbol('Start'), Symbol('Start')],\n",
      "    [Symbol('bvmul'), Symbol('Start'), Symbol('Start')],\n",
      "    [Symbol('bvudiv'), Symbol('Start'), Symbol('Start')],\n",
      "    [Symbol('bvurem'), Symbol('Start'), Symbol('Start')],\n",
      "    [Symbol('bvlshr'), Symbol('Start'), Symbol('Start')],\n",
      "    [Symbol('bvashr'), Symbol('Start'), Symbol('Start')],\n",
      "    [Symbol('bvshl'), Symbol('Start'), Symbol('Start')],\n",
      "    [Symbol('bvsdiv'), Symbol('Start'), Symbol('Start')],\n",
      "    [Symbol('bvsrem'), Symbol('Start'), Symbol('Start')],\n",
      "    [Symbol('bvsub'), Symbol('Start'), Symbol('Start')],\n",
      "    Symbol('x'),\n",
      "    Symbol('y'),\n",
      "    Symbol('#x0000000000000001'),\n",
      "    Symbol('#x0000000000000010'),\n",
      "    Symbol('#xffffffffffffffff'),\n",
      "    [Symbol('ite'), Symbol('StartBool'), Symbol('Start'), Symbol('Start')]]],\n",
      "  [Symbol('StartBool'),\n",
      "   Symbol('Bool'),\n",
      "   [[Symbol('='), Symbol('Start'), Symbol('Start')]]]]]\n",
      "[[Symbol('constraint'),\n",
      "  [Symbol('='),\n",
      "   [Symbol('hd25'), Symbol('x'), Symbol('y')],\n",
      "   [Symbol('f'), Symbol('x'), Symbol('y')]]]]\n"
     ]
    }
   ],
   "source": [
    "HACKERS_DELIGHT_SYNTH_FUNS = {}\n",
    "HACKERS_DELIGHT_CONSTRAINTS = {}\n",
    "\n",
    "for filename, sexps in HACKERS_DELIGHT_PROBLEMS.items():\n",
    "    synth_fun = get_synth_fun(sexps)\n",
    "    HACKERS_DELIGHT_SYNTH_FUNS[filename] = synth_fun\n",
    "    HACKERS_DELIGHT_CONSTRAINTS[filename] = get_constraints(sexps)\n",
    "\n",
    "pprint(HACKERS_DELIGHT_SYNTH_FUNS[\"hd-25.sl\"])\n",
    "pprint(HACKERS_DELIGHT_CONSTRAINTS[\"hd-25.sl\"])"
   ]
  },
  {
   "cell_type": "code",
   "execution_count": 7,
   "metadata": {},
   "outputs": [
    {
     "name": "stdout",
     "output_type": "stream",
     "text": [
      "[[Symbol('define-fun'),\n",
      "  Symbol('hd25'),\n",
      "  [[Symbol('x'), [Symbol('BitVec'), 64]],\n",
      "   [Symbol('y'), [Symbol('BitVec'), 64]]],\n",
      "  [Symbol('BitVec'), 64],\n",
      "  [Symbol('bvadd'),\n",
      "   [Symbol('bvadd'),\n",
      "    [Symbol('bvlshr'),\n",
      "     [Symbol('bvadd'),\n",
      "      [Symbol('bvmul'),\n",
      "       [Symbol('bvand'), Symbol('x'), Symbol('#xffffffffffffffff')],\n",
      "       [Symbol('bvlshr'), Symbol('y'), Symbol('#x0000000000000010')]],\n",
      "      [Symbol('bvand'),\n",
      "       [Symbol('bvadd'),\n",
      "        [Symbol('bvmul'),\n",
      "         [Symbol('bvlshr'), Symbol('x'), Symbol('#x0000000000000010')],\n",
      "         [Symbol('bvand'), Symbol('y'), Symbol('#xffffffffffffffff')]],\n",
      "        [Symbol('bvlshr'),\n",
      "         [Symbol('bvmul'),\n",
      "          [Symbol('bvand'), Symbol('x'), Symbol('#xffffffffffffffff')],\n",
      "          [Symbol('bvand'), Symbol('y'), Symbol('#xffffffffffffffff')]],\n",
      "         Symbol('#x0000000000000010')]],\n",
      "       Symbol('#xffffffffffffffff')]],\n",
      "     Symbol('#x0000000000000010')],\n",
      "    [Symbol('bvlshr'),\n",
      "     [Symbol('bvadd'),\n",
      "      [Symbol('bvmul'),\n",
      "       [Symbol('bvlshr'), Symbol('x'), Symbol('#x0000000000000010')],\n",
      "       [Symbol('bvand'), Symbol('y'), Symbol('#xffffffffffffffff')]],\n",
      "      [Symbol('bvlshr'),\n",
      "       [Symbol('bvmul'),\n",
      "        [Symbol('bvand'), Symbol('x'), Symbol('#xffffffffffffffff')],\n",
      "        [Symbol('bvand'), Symbol('y'), Symbol('#xffffffffffffffff')]],\n",
      "       Symbol('#x0000000000000010')]],\n",
      "     Symbol('#x0000000000000010')]],\n",
      "   [Symbol('bvmul'),\n",
      "    [Symbol('bvlshr'), Symbol('x'), Symbol('#x0000000000000010')],\n",
      "    [Symbol('bvlshr'), Symbol('y'), Symbol('#x0000000000000010')]]]]]\n"
     ]
    }
   ],
   "source": [
    "HACKERS_DELIGHT_FUNCTION_DEFINITIONS = {}\n",
    "\n",
    "for filename, sexps in HACKERS_DELIGHT_PROBLEMS.items():\n",
    "    HACKERS_DELIGHT_FUNCTION_DEFINITIONS[filename] = get_function_definitions(sexps)\n",
    "\n",
    "pprint(HACKERS_DELIGHT_FUNCTION_DEFINITIONS[\"hd-25.sl\"])"
   ]
  },
  {
   "cell_type": "code",
   "execution_count": 8,
   "metadata": {},
   "outputs": [],
   "source": [
    "EXAMPLE_GENERATION_SYSTEM_PROMPT = \"\"\"You are a coding assistant. Be precise and terse.\n",
    "You will be given a SyGus grammar, a natural language specification, a set of function definitions and a set of constraints.\n",
    "Your task is to use the given information to generate a 10 of input-output examples that satisfy the constraints.\"\"\"\n",
    "\n",
    "TOOL = {\n",
    "        \"type\": \"function\",\n",
    "        \"function\": {\n",
    "            \"name\": \"send_examples\",\n",
    "            \"description\": \"send a list of input-output examples to the user\",\n",
    "            \"parameters\": {\n",
    "                \"type\": \"object\",\n",
    "                \"properties\": {\n",
    "                    \"examples\": {\n",
    "                        \"type\": \"array\",\n",
    "                        \"description\": \"a list of input-output examples\",\n",
    "                        \"items\": {\n",
    "                            \"type\": \"object\",\n",
    "                            \"description\": \"a single input-output example\",\n",
    "                            \"properties\": {\n",
    "                                \"inputs\": {\n",
    "                                    \"type\": \"array\",\n",
    "                                    \"description\": \"a list of inputs\",\n",
    "                                    \"items\": {\n",
    "                                        \"type\": \"string\",\n",
    "                                        \"description\": \"a single input\"\n",
    "                                    }\n",
    "                                },\n",
    "                                \"output\": {\n",
    "                                    \"type\": \"string\",\n",
    "                                    \"description\": \"the output\"\n",
    "                                }\n",
    "                            }\n",
    "                        }\n",
    "                    }\n",
    "                }\n",
    "            }\n",
    "        }\n",
    "    }"
   ]
  },
  {
   "cell_type": "code",
   "execution_count": 9,
   "metadata": {},
   "outputs": [],
   "source": [
    "TEST_GRAMMAR = HACKERS_DELIGHT_SYNTH_FUNS[\"hd-25.sl\"]\n",
    "TEST_NAT_LANG_SPEC = \"\\n\".join(HACKERS_DELIGHT_COMMENTS[\"hd-25.sl\"])\n",
    "TEST_FUNCTION_DEFINITIONS = \"\\n\".join([sexp.dumps(fd) for fd in HACKERS_DELIGHT_FUNCTION_DEFINITIONS[\"hd-25.sl\"]])\n",
    "TEST_CONSTRAINTS = \"\\n\".join([sexp.dumps(c) for c in  HACKERS_DELIGHT_CONSTRAINTS[\"hd-25.sl\"]])\n",
    "\n",
    "TEST_USER_MESSAGE = f\"\"\"[GRAMMAR]\n",
    "{sexp.dumps(TEST_GRAMMAR)}\n",
    "\n",
    "[NATURAL LANGUAGE SPECIFICATION]\n",
    "{TEST_NAT_LANG_SPEC}\n",
    "\n",
    "[FUNCTION DEFINITIONS]\n",
    "{TEST_FUNCTION_DEFINITIONS}\n",
    "\n",
    "[CONSTRAINTS]\n",
    "{TEST_CONSTRAINTS}\"\"\""
   ]
  },
  {
   "cell_type": "code",
   "execution_count": 10,
   "metadata": {},
   "outputs": [
    {
     "name": "stdout",
     "output_type": "stream",
     "text": [
      "('[GRAMMAR]\\n'\n",
      " '(synth-fun f ((x (BitVec 64)) (y (BitVec 64))) (BitVec 64) ((Start (BitVec '\n",
      " '64) ((bvnot Start) (bvxor Start Start) (bvand Start Start) (bvor Start '\n",
      " 'Start) (bvneg Start) (bvadd Start Start) (bvmul Start Start) (bvudiv Start '\n",
      " 'Start) (bvurem Start Start) (bvlshr Start Start) (bvashr Start Start) (bvshl '\n",
      " 'Start Start) (bvsdiv Start Start) (bvsrem Start Start) (bvsub Start Start) x '\n",
      " 'y \\\\#x0000000000000001 \\\\#x0000000000000010 \\\\#xffffffffffffffff (ite '\n",
      " 'StartBool Start Start))) (StartBool Bool ((= Start Start)))))\\n'\n",
      " '\\n'\n",
      " '[NATURAL LANGUAGE SPECIFICATION]\\n'\n",
      " '; Compute higher order half of product of x and y.\\n'\n",
      " '\\n'\n",
      " '[FUNCTION DEFINITIONS]\\n'\n",
      " '(define-fun hd25 ((x (BitVec 64)) (y (BitVec 64))) (BitVec 64) (bvadd (bvadd '\n",
      " '(bvlshr (bvadd (bvmul (bvand x \\\\#xffffffffffffffff) (bvlshr y '\n",
      " '\\\\#x0000000000000010)) (bvand (bvadd (bvmul (bvlshr x \\\\#x0000000000000010) '\n",
      " '(bvand y \\\\#xffffffffffffffff)) (bvlshr (bvmul (bvand x '\n",
      " '\\\\#xffffffffffffffff) (bvand y \\\\#xffffffffffffffff)) \\\\#x0000000000000010)) '\n",
      " '\\\\#xffffffffffffffff)) \\\\#x0000000000000010) (bvlshr (bvadd (bvmul (bvlshr x '\n",
      " '\\\\#x0000000000000010) (bvand y \\\\#xffffffffffffffff)) (bvlshr (bvmul (bvand '\n",
      " 'x \\\\#xffffffffffffffff) (bvand y \\\\#xffffffffffffffff)) '\n",
      " '\\\\#x0000000000000010)) \\\\#x0000000000000010)) (bvmul (bvlshr x '\n",
      " '\\\\#x0000000000000010) (bvlshr y \\\\#x0000000000000010))))\\n'\n",
      " '\\n'\n",
      " '[CONSTRAINTS]\\n'\n",
      " '(constraint (= (hd25 x y) (f x y)))')\n"
     ]
    }
   ],
   "source": [
    "pprint(TEST_USER_MESSAGE)"
   ]
  },
  {
   "cell_type": "code",
   "execution_count": 11,
   "metadata": {},
   "outputs": [],
   "source": [
    "def generate_examples(filename: str, n=5):\n",
    "    synth_fun = HACKERS_DELIGHT_SYNTH_FUNS[filename]\n",
    "    function_definitions = \"\\n\".join([sexp.dumps(fd) for fd in HACKERS_DELIGHT_FUNCTION_DEFINITIONS[filename]])\n",
    "    constraints = \"\\n\".join([sexp.dumps(c) for c in  HACKERS_DELIGHT_CONSTRAINTS[filename]])\n",
    "    natural_language_spec = \"\\n\".join(HACKERS_DELIGHT_COMMENTS[filename])\n",
    "    user_message = f\"\"\"[GRAMMAR]\n",
    "{sexp.dumps(synth_fun)}\n",
    "\n",
    "[NATURAL LANGUAGE SPECIFICATION]\n",
    "{natural_language_spec}\n",
    "\n",
    "[FUNCTION DEFINITIONS]\n",
    "{function_definitions}\n",
    "\n",
    "[CONSTRAINTS]\n",
    "{constraints}\"\"\"\n",
    "    completion = OPENAI.chat.completions.create(\n",
    "        model=\"gpt-4\",\n",
    "        messages=[\n",
    "            {\"role\": \"system\", \"content\": EXAMPLE_GENERATION_SYSTEM_PROMPT},\n",
    "            {\"role\": \"user\", \"content\": user_message},\n",
    "        ],\n",
    "        tools=[TOOL],\n",
    "        tool_choice=TOOL,\n",
    "        n=n\n",
    "    )\n",
    "    examples = []\n",
    "    for choice in completion.choices:\n",
    "        try:\n",
    "            arguments = json.loads(choice.message.tool_calls[0].function.arguments)\n",
    "            examples.extend(arguments[\"examples\"])\n",
    "        except Exception as e:\n",
    "            print(e)\n",
    "            continue"
   ]
  },
  {
   "cell_type": "code",
   "execution_count": null,
   "metadata": {},
   "outputs": [],
   "source": [
    "import os\n",
    "import pickle\n",
    "\n",
    "if os.path.exists(\"./HACKERS_DELIGHT_GENERATED_EXAMPLES.pkl\"):\n",
    "    with open(\"./HACKERS_DELIGHT_GENERATED_EXAMPLES.pkl\", \"r\") as f:\n",
    "        HACKERS_DELIGHT_GENERATED_EXAMPLES = pickle.load(f)\n",
    "else:\n",
    "    HACKERS_DELIGHT_GENERATED_EXAMPLES = {}\n",
    "    for filename in HACKERS_DELIGHT_SYNTH_FUNS.keys():\n",
    "        print(filename)\n",
    "        HACKERS_DELIGHT_GENERATED_EXAMPLES[filename] = generate_examples(filename, n=5)\n",
    "    with open(\"./HACKERS_DELIGHT_GENERATED_EXAMPLES.pkl\", \"w\") as f:\n",
    "        pickle.dump(HACKERS_DELIGHT_GENERATED_EXAMPLES, f)"
   ]
  },
  {
   "cell_type": "markdown",
   "metadata": {},
   "source": [
    "## Circuit"
   ]
  },
  {
   "cell_type": "code",
   "execution_count": 12,
   "metadata": {},
   "outputs": [
    {
     "name": "stdout",
     "output_type": "stream",
     "text": [
      "CrCy_10-sbox2-D7-sIn1.sl\n",
      "CrCy_6-P10-D7-sIn.sl\n",
      "CrCy_6-P10-D7-sIn3.sl\n",
      "CrCy_10-sbox2-D5-sIn104.sl\n",
      "CrCy_9-pprmAll-D7-sIn1.sl\n",
      "CrCy_6-P10-D5-sIn.sl\n",
      "CrCy_10-sbox2-D5-sIn88.sl\n",
      "CrCy_8-P12-D7-sIn5.sl\n",
      "CrCy_10-sbox2-D5-sIn89.sl\n",
      "CrCy_2-P6_2-P6.sl\n",
      "CrCy_6-P10-D7-sIn5.sl\n",
      "CrCy_8-P12-D7-sIn1.sl\n",
      "CrCy_10-sbox2-D5-sIn79.sl\n",
      "CrCy_10-sbox2-D5-sIn78.sl\n",
      "CrCy_10-sbox2-D5-sIn91.sl\n",
      "CrCy_6-P10-D9-sIn5.sl\n",
      "CrCy_8-P12-D5-sIn1.sl\n",
      "CrCy_8-P12-D9-sIn1.sl\n",
      "CrCy_10-sbox2-D5-sIn90.sl\n",
      "CrCy_10-sbox2-D5-sIn92.sl\n",
      "CrCy_10-sbox2-D5-sIn15.sl\n",
      "CrCy_8-P12-D5-sIn3.sl\n",
      "CrCy_10-sbox2-D5-sIn14.sl\n",
      "CrCy_10-sbox2-D5-sIn80.sl\n",
      "CrCy_10-sbox2-D5-sIn77.sl\n",
      "CrCy_6-P10-D9-sIn3.sl\n",
      "CrCy_6-P10-D5-sIn3.sl\n",
      "CrCy_9-pprmAll-D5-sIn1.sl\n",
      "CrCy_9-pprmAll-D9-sIn1.sl\n",
      "CrCy_10-sbox2-D5-sIn76.sl\n",
      "CrCy_6-P10-D9-sIn.sl\n"
     ]
    }
   ],
   "source": [
    "CIRCUIT_PROBLEMS = {}\n",
    "CIRCUIT_COMMENTS = {}\n",
    "\n",
    "for file in CIRCUIT_DIRECTORY.iterdir():\n",
    "    print(file.name)\n",
    "    with open(file, \"r\") as f:\n",
    "        contents = file.read_text()\n",
    "        CIRCUIT_PROBLEMS[file.name] = sexp.loads(contents)\n",
    "        CIRCUIT_COMMENTS[file.name] = [\n",
    "            line for line in contents.split(\"\\n\") if is_comment(line)\n",
    "        ]"
   ]
  },
  {
   "cell_type": "code",
   "execution_count": 13,
   "metadata": {},
   "outputs": [
    {
     "name": "stdout",
     "output_type": "stream",
     "text": [
      "[Symbol('synth-fun'),\n",
      " Symbol('skel'),\n",
      " [[Symbol('LN17'), Symbol('Bool')],\n",
      "  [Symbol('k7'), Symbol('Bool')],\n",
      "  [Symbol('LN34'), Symbol('Bool')],\n",
      "  [Symbol('LN40'), Symbol('Bool')],\n",
      "  [Symbol('LN47'), Symbol('Bool')],\n",
      "  [Symbol('LN56'), Symbol('Bool')],\n",
      "  [Symbol('LN65'), Symbol('Bool')],\n",
      "  [Symbol('LN75'), Symbol('Bool')]],\n",
      " Symbol('Bool'),\n",
      " [[Symbol('Start'),\n",
      "   Symbol('Bool'),\n",
      "   [[Symbol('and'), Symbol('depth1'), Symbol('depth1')],\n",
      "    [Symbol('not'), Symbol('depth1')],\n",
      "    [Symbol('or'), Symbol('depth1'), Symbol('depth1')],\n",
      "    [Symbol('xor'), Symbol('depth1'), Symbol('depth1')]]],\n",
      "  [Symbol('depth1'),\n",
      "   Symbol('Bool'),\n",
      "   [[Symbol('and'), Symbol('depth2'), Symbol('depth2')],\n",
      "    [Symbol('not'), Symbol('depth2')],\n",
      "    [Symbol('or'), Symbol('depth2'), Symbol('depth2')],\n",
      "    [Symbol('xor'), Symbol('depth2'), Symbol('depth2')],\n",
      "    Symbol('LN75')]],\n",
      "  [Symbol('depth2'),\n",
      "   Symbol('Bool'),\n",
      "   [[Symbol('and'), Symbol('depth3'), Symbol('depth3')],\n",
      "    [Symbol('not'), Symbol('depth3')],\n",
      "    [Symbol('or'), Symbol('depth3'), Symbol('depth3')],\n",
      "    [Symbol('xor'), Symbol('depth3'), Symbol('depth3')]]],\n",
      "  [Symbol('depth3'),\n",
      "   Symbol('Bool'),\n",
      "   [[Symbol('and'), Symbol('depth4'), Symbol('depth4')],\n",
      "    [Symbol('not'), Symbol('depth4')],\n",
      "    [Symbol('or'), Symbol('depth4'), Symbol('depth4')],\n",
      "    [Symbol('xor'), Symbol('depth4'), Symbol('depth4')],\n",
      "    Symbol('LN47'),\n",
      "    Symbol('LN65')]],\n",
      "  [Symbol('depth4'),\n",
      "   Symbol('Bool'),\n",
      "   [[Symbol('and'), Symbol('depth5'), Symbol('depth5')],\n",
      "    [Symbol('not'), Symbol('depth5')],\n",
      "    [Symbol('or'), Symbol('depth5'), Symbol('depth5')],\n",
      "    [Symbol('xor'), Symbol('depth5'), Symbol('depth5')],\n",
      "    Symbol('LN34'),\n",
      "    Symbol('LN40'),\n",
      "    Symbol('LN56')]],\n",
      "  [Symbol('depth5'),\n",
      "   Symbol('Bool'),\n",
      "   [[Symbol('and'), Symbol('depth6'), Symbol('depth6')],\n",
      "    [Symbol('not'), Symbol('depth6')],\n",
      "    [Symbol('or'), Symbol('depth6'), Symbol('depth6')],\n",
      "    [Symbol('xor'), Symbol('depth6'), Symbol('depth6')],\n",
      "    Symbol('LN17')]],\n",
      "  [Symbol('depth6'), Symbol('Bool'), [Symbol('k7')]]]]\n",
      "[[Symbol('constraint'),\n",
      "  [Symbol('='),\n",
      "   [Symbol('origCir'),\n",
      "    Symbol('LN17'),\n",
      "    Symbol('k7'),\n",
      "    Symbol('LN34'),\n",
      "    Symbol('LN40'),\n",
      "    Symbol('LN47'),\n",
      "    Symbol('LN56'),\n",
      "    Symbol('LN65'),\n",
      "    Symbol('LN75')],\n",
      "   [Symbol('skel'),\n",
      "    Symbol('LN17'),\n",
      "    Symbol('k7'),\n",
      "    Symbol('LN34'),\n",
      "    Symbol('LN40'),\n",
      "    Symbol('LN47'),\n",
      "    Symbol('LN56'),\n",
      "    Symbol('LN65'),\n",
      "    Symbol('LN75')]]]]\n"
     ]
    }
   ],
   "source": [
    "CIRCUIT_SYNTH_FUNS = {}\n",
    "CIRCUIT_CONSTRAINTS = {}\n",
    "\n",
    "for filename, sexps in CIRCUIT_PROBLEMS.items():\n",
    "    synth_fun = get_synth_fun(sexps)\n",
    "    CIRCUIT_SYNTH_FUNS[filename] = synth_fun\n",
    "    CIRCUIT_CONSTRAINTS[filename] = get_constraints(sexps)\n",
    "\n",
    "pprint(CIRCUIT_SYNTH_FUNS[\"CrCy_10-sbox2-D7-sIn1.sl\"])\n",
    "pprint(CIRCUIT_CONSTRAINTS[\"CrCy_10-sbox2-D7-sIn1.sl\"])"
   ]
  },
  {
   "cell_type": "code",
   "execution_count": 14,
   "metadata": {},
   "outputs": [
    {
     "name": "stdout",
     "output_type": "stream",
     "text": [
      "[[Symbol('define-fun'),\n",
      "  Symbol('origCir'),\n",
      "  [[Symbol('LN17'), Symbol('Bool')],\n",
      "   [Symbol('k7'), Symbol('Bool')],\n",
      "   [Symbol('LN34'), Symbol('Bool')],\n",
      "   [Symbol('LN40'), Symbol('Bool')],\n",
      "   [Symbol('LN47'), Symbol('Bool')],\n",
      "   [Symbol('LN56'), Symbol('Bool')],\n",
      "   [Symbol('LN65'), Symbol('Bool')],\n",
      "   [Symbol('LN75'), Symbol('Bool')]],\n",
      "  Symbol('Bool'),\n",
      "  [Symbol('xor'),\n",
      "   [Symbol('xor'),\n",
      "    [Symbol('xor'),\n",
      "     [Symbol('xor'),\n",
      "      [Symbol('and'),\n",
      "       Symbol('LN40'),\n",
      "       [Symbol('xor'),\n",
      "        [Symbol('xor'), Symbol('k7'), Symbol('LN17')],\n",
      "        Symbol('LN34')]],\n",
      "      Symbol('LN56')],\n",
      "     Symbol('LN65')],\n",
      "    Symbol('LN47')],\n",
      "   Symbol('LN75')]]]\n"
     ]
    }
   ],
   "source": [
    "CURCUIT_FUNCTION_DEFINITIONS = {}\n",
    "\n",
    "for filename, sexps in CIRCUIT_PROBLEMS.items():\n",
    "    CURCUIT_FUNCTION_DEFINITIONS[filename] = get_function_definitions(sexps)\n",
    "\n",
    "pprint(CURCUIT_FUNCTION_DEFINITIONS[\"CrCy_10-sbox2-D7-sIn1.sl\"])"
   ]
  },
  {
   "cell_type": "code",
   "execution_count": 16,
   "metadata": {},
   "outputs": [],
   "source": [
    "def generate_circuit_examples(filename: str, n=5):\n",
    "    synth_fun = CIRCUIT_SYNTH_FUNS[filename]\n",
    "    function_definitions = \"\\n\".join([sexp.dumps(fd) for fd in CURCUIT_FUNCTION_DEFINITIONS[filename]])\n",
    "    constraints = \"\\n\".join([sexp.dumps(c) for c in  CIRCUIT_CONSTRAINTS[filename]])\n",
    "    natural_language_spec = \"\\n\".join(CIRCUIT_COMMENTS[filename])\n",
    "    user_message = f\"\"\"[GRAMMAR]\n",
    "{sexp.dumps(synth_fun)}\n",
    "\n",
    "[NATURAL LANGUAGE SPECIFICATION]\n",
    "{natural_language_spec}\n",
    "\n",
    "[FUNCTION DEFINITIONS]\n",
    "{function_definitions}\n",
    "\n",
    "[CONSTRAINTS]\n",
    "{constraints}\"\"\"\n",
    "    completion = OPENAI.chat.completions.create(\n",
    "        model=\"gpt-4\",\n",
    "        messages=[\n",
    "            {\"role\": \"system\", \"content\": EXAMPLE_GENERATION_SYSTEM_PROMPT},\n",
    "            {\"role\": \"user\", \"content\": user_message},\n",
    "        ],\n",
    "        tools=[TOOL],\n",
    "        tool_choice=TOOL,\n",
    "        n=n\n",
    "    )\n",
    "    examples = []\n",
    "    for choice in completion.choices:\n",
    "        try:\n",
    "            arguments = json.loads(choice.message.tool_calls[0].function.arguments)\n",
    "            examples.extend(arguments[\"examples\"])\n",
    "        except Exception as e:\n",
    "            print(e)\n",
    "            continue\n",
    "    return examples\n",
    "\n"
   ]
  },
  {
   "cell_type": "code",
   "execution_count": null,
   "metadata": {},
   "outputs": [],
   "source": [
    "if os.path.exists(\"./CIRCUIT_GENERATED_EXAMPLES.pkl\"):\n",
    "    with open(\"./CIRCUIT_GENERATED_EXAMPLES.pkl\", \"r\") as f:\n",
    "        CIRCUIT_GENERATED_EXAMPLES = pickle.load(f)\n",
    "else:\n",
    "    CIRCUIT_GENERATED_EXAMPLES = {}\n",
    "    for filename in CIRCUIT_SYNTH_FUNS.keys():\n",
    "        print(filename)\n",
    "        CIRCUIT_GENERATED_EXAMPLES[filename] = generate_circuit_examples(filename, n=5)\n",
    "    with open(\"./CIRCUIT_GENERATED_EXAMPLES.pkl\", \"w\") as f:\n",
    "        pickle.dump(CIRCUIT_GENERATED_EXAMPLES, f)"
   ]
  },
  {
   "cell_type": "code",
   "execution_count": null,
   "metadata": {},
   "outputs": [],
   "source": [
    "pprint(CIRCUIT_GENERATED_EXAMPLES)"
   ]
  },
  {
   "cell_type": "code",
   "execution_count": null,
   "metadata": {},
   "outputs": [],
   "source": [
    "# write to json\n",
    "CIRCUIT_GENERATED_EXAMPLES_FILE = ROOT_DIRECTORY / \"sygus/circuit-generated-examples.json\"\n",
    "CIRCUIT_GENERATED_EXAMPLES_FILE.write_text(json.dumps(CIRCUIT_GENERATED_EXAMPLES, indent=2))"
   ]
  }
 ],
 "metadata": {
  "kernelspec": {
   "display_name": ".venv",
   "language": "python",
   "name": "python3"
  },
  "language_info": {
   "codemirror_mode": {
    "name": "ipython",
    "version": 3
   },
   "file_extension": ".py",
   "mimetype": "text/x-python",
   "name": "python",
   "nbconvert_exporter": "python",
   "pygments_lexer": "ipython3",
   "version": "3.10.12"
  }
 },
 "nbformat": 4,
 "nbformat_minor": 2
}
