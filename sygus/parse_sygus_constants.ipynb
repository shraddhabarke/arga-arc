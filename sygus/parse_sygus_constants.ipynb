{
 "cells": [
  {
   "cell_type": "code",
   "execution_count": 2,
   "metadata": {},
   "outputs": [
    {
     "name": "stdout",
     "output_type": "stream",
     "text": [
      "Current directory: /home/ubuntu/arga-arc/sygus\n",
      "Root directory: /home/ubuntu/arga-arc\n"
     ]
    }
   ],
   "source": [
    "import os\n",
    "import sys\n",
    "from pathlib import Path\n",
    "\n",
    "CURRENT_DIRECTORY = Path(os.getcwd())\n",
    "ROOT_DIRECTORY = (CURRENT_DIRECTORY / \"..\").absolute().resolve()\n",
    "\n",
    "print(f\"Current directory: {CURRENT_DIRECTORY}\")\n",
    "print(f\"Root directory: {ROOT_DIRECTORY}\")\n",
    "\n",
    "sys.path.append(str(ROOT_DIRECTORY))"
   ]
  },
  {
   "cell_type": "code",
   "execution_count": 3,
   "metadata": {},
   "outputs": [],
   "source": [
    "import typing as t\n",
    "from pprint import pprint\n",
    "from dataclasses import dataclass\n",
    "import sexpdata as sexp\n",
    "from sexpdata import Symbol\n",
    "from openai import OpenAI\n",
    "from config import CONFIG\n",
    "from datetime import datetime\n",
    "import json\n",
    "import random\n",
    "import math\n",
    "\n",
    "OPENAI = OpenAI(organization=CONFIG.OPENAI_ORGANIZATION, api_key=CONFIG.OPENAI_SECRET_KEY)\n",
    "client = OpenAI(organization=CONFIG.OPENAI_ORGANIZATION, api_key=CONFIG.OPENAI_SECRET_KEY)"
   ]
  },
  {
   "cell_type": "code",
   "execution_count": 7,
   "metadata": {},
   "outputs": [],
   "source": [
    "class CompletionJSON(t.TypedDict):\n",
    "    solutions: t.List[str]\n",
    "    time_ms: float"
   ]
  },
  {
   "cell_type": "code",
   "execution_count": 16,
   "metadata": {},
   "outputs": [
    {
     "name": "stdout",
     "output_type": "stream",
     "text": [
      "sexp\n",
      "[[Symbol('define-fun'),\n",
      "  Symbol('f'),\n",
      "  [Symbol('name'), Symbol('String')],\n",
      "  Symbol('String'),\n",
      "  [Symbol('str.++'),\n",
      "   [Symbol('str.substr'), Symbol('name'), 0, 4],\n",
      "   '(',\n",
      "   [Symbol('str.substr'), Symbol('name'), 4, 3],\n",
      "   ')',\n",
      "   [Symbol('str.substr'),\n",
      "    Symbol('name'),\n",
      "    7,\n",
      "    [Symbol('-'), [Symbol('str.len'), Symbol('name')], 7]]]]]\n",
      "walk\n",
      "[[Symbol('define-fun'),\n",
      "  Symbol('f'),\n",
      "  [Symbol('name'), Symbol('String')],\n",
      "  Symbol('String'),\n",
      "  [Symbol('str.++'),\n",
      "   [Symbol('str.substr'), Symbol('name'), 0, 4],\n",
      "   '(',\n",
      "   [Symbol('str.substr'), Symbol('name'), 4, 3],\n",
      "   ')',\n",
      "   [Symbol('str.substr'),\n",
      "    Symbol('name'),\n",
      "    7,\n",
      "    [Symbol('-'), [Symbol('str.len'), Symbol('name')], 7]]]]]\n",
      "[Symbol('define-fun'),\n",
      " Symbol('f'),\n",
      " [Symbol('name'), Symbol('String')],\n",
      " Symbol('String'),\n",
      " [Symbol('str.++'),\n",
      "  [Symbol('str.substr'), Symbol('name'), 0, 4],\n",
      "  '(',\n",
      "  [Symbol('str.substr'), Symbol('name'), 4, 3],\n",
      "  ')',\n",
      "  [Symbol('str.substr'),\n",
      "   Symbol('name'),\n",
      "   7,\n",
      "   [Symbol('-'), [Symbol('str.len'), Symbol('name')], 7]]]]\n",
      "Symbol('define-fun')\n",
      "Symbol('f')\n",
      "[Symbol('name'), Symbol('String')]\n",
      "Symbol('name')\n",
      "Symbol('String')\n",
      "Symbol('String')\n",
      "[Symbol('str.++'),\n",
      " [Symbol('str.substr'), Symbol('name'), 0, 4],\n",
      " '(',\n",
      " [Symbol('str.substr'), Symbol('name'), 4, 3],\n",
      " ')',\n",
      " [Symbol('str.substr'),\n",
      "  Symbol('name'),\n",
      "  7,\n",
      "  [Symbol('-'), [Symbol('str.len'), Symbol('name')], 7]]]\n",
      "Symbol('str.++')\n",
      "[Symbol('str.substr'), Symbol('name'), 0, 4]\n",
      "Symbol('str.substr')\n",
      "Symbol('name')\n",
      "0\n",
      "4\n",
      "'('\n",
      "[Symbol('str.substr'), Symbol('name'), 4, 3]\n",
      "Symbol('str.substr')\n",
      "Symbol('name')\n",
      "4\n",
      "3\n",
      "')'\n",
      "[Symbol('str.substr'),\n",
      " Symbol('name'),\n",
      " 7,\n",
      " [Symbol('-'), [Symbol('str.len'), Symbol('name')], 7]]\n",
      "Symbol('str.substr')\n",
      "Symbol('name')\n",
      "7\n",
      "[Symbol('-'), [Symbol('str.len'), Symbol('name')], 7]\n",
      "Symbol('-')\n",
      "[Symbol('str.len'), Symbol('name')]\n",
      "Symbol('str.len')\n",
      "Symbol('name')\n",
      "7\n"
     ]
    }
   ],
   "source": [
    "TEST_S_EXPRESSIONS = [\n",
    "    sexp.loads(\"(define-fun f (name String) String\\n(str.++ (str.substr name 0 4) \\\"(\\\" (str.substr name 4 3) \\\")\\\" (str.substr name 7 (- (str.len name) 7))))\")\n",
    "]\n",
    "\n",
    "SExpItem = t.Union[\n",
    "    sexp.Symbol,\n",
    "    str,\n",
    "    int\n",
    "]\n",
    "SExp = t.Union[SExpItem,t.List[\"SExp\"]]\n",
    "\n",
    "def walk(s: SExp):\n",
    "    prune = yield s\n",
    "    if prune is None:\n",
    "        prune = False\n",
    "    if prune:\n",
    "        return\n",
    "    \n",
    "    if isinstance(s, list):\n",
    "        for i in s:\n",
    "            yield from walk(i)\n",
    "\n",
    "\n",
    "for s in TEST_S_EXPRESSIONS:\n",
    "    print(\"sexp\")\n",
    "    pprint(s)\n",
    "    print(\"walk\")\n",
    "    for node in walk(s):\n",
    "        pprint(node)"
   ]
  },
  {
   "cell_type": "code",
   "execution_count": 28,
   "metadata": {},
   "outputs": [
    {
     "name": "stdout",
     "output_type": "stream",
     "text": [
      "completion:\n",
      "(define-fun f (name String) String\n",
      "(str.substr name 4 3)\n",
      "repaired\n",
      "[[Symbol('define-fun'),\n",
      "  Symbol('f'),\n",
      "  [Symbol('name'), Symbol('String')],\n",
      "  Symbol('String'),\n",
      "  [Symbol('str.substr'), Symbol('name'), 4, 3]]]\n",
      "\n",
      "completion:\n",
      "(define-fun f (_arg_0 String) String\n",
      "(str.replace _arg_0 \"1\" \"\")\n",
      "(str.replace _arg_0 \"2\" \"\")\n",
      "(str.replace _arg_0 \"3\" \"\")\n",
      "(str.replace _arg_0 \"4\" \"\")\n",
      "(str.replace _arg_0 \"5\" \"\")\n",
      "(str.replace _arg_0 \"6\" \"\")\n",
      "(str.replace _arg_0 \"7\" \"\")\n",
      "(str.replace _arg_0 \"8\" \"\")\n",
      "(str.replace _arg_0 \"9\" \"\")\n",
      "(str.replace _arg_0 \"0\" \"\")))\n",
      "repaired\n",
      "[[Symbol('define-fun'),\n",
      "  Symbol('f'),\n",
      "  [Symbol('_arg_0'), Symbol('String')],\n",
      "  Symbol('String'),\n",
      "  [Symbol('str.replace'), Symbol('_arg_0'), '1', ''],\n",
      "  [Symbol('str.replace'), Symbol('_arg_0'), '2', ''],\n",
      "  [Symbol('str.replace'), Symbol('_arg_0'), '3', ''],\n",
      "  [Symbol('str.replace'), Symbol('_arg_0'), '4', ''],\n",
      "  [Symbol('str.replace'), Symbol('_arg_0'), '5', ''],\n",
      "  [Symbol('str.replace'), Symbol('_arg_0'), '6', ''],\n",
      "  [Symbol('str.replace'), Symbol('_arg_0'), '7', ''],\n",
      "  [Symbol('str.replace'), Symbol('_arg_0'), '8', ''],\n",
      "  [Symbol('str.replace'), Symbol('_arg_0'), '9', ''],\n",
      "  [Symbol('str.replace'), Symbol('_arg_0'), '0', '']]]\n",
      "\n"
     ]
    }
   ],
   "source": [
    "TEST_REPAIR_COMPLETIONS = [\n",
    "    \"(define-fun f (name String) String\\n(str.substr name 4 3)\",\n",
    "    \"\"\"(define-fun f (_arg_0 String) String\n",
    "(str.replace _arg_0 \"1\" \"\")\n",
    "(str.replace _arg_0 \"2\" \"\")\n",
    "(str.replace _arg_0 \"3\" \"\")\n",
    "(str.replace _arg_0 \"4\" \"\")\n",
    "(str.replace _arg_0 \"5\" \"\")\n",
    "(str.replace _arg_0 \"6\" \"\")\n",
    "(str.replace _arg_0 \"7\" \"\")\n",
    "(str.replace _arg_0 \"8\" \"\")\n",
    "(str.replace _arg_0 \"9\" \"\")\n",
    "(str.replace _arg_0 \"0\" \"\")))\"\"\"\n",
    "]\n",
    "\n",
    "def add_closing_bracket(completion: str) -> str:\n",
    "    return completion + \")\"\n",
    "\n",
    "def remove_closing_bracket(completion: str) -> str:\n",
    "    return completion[:-1]\n",
    "\n",
    "def parse_and_repair(completion: str) -> SExp:\n",
    "    try:\n",
    "        parsed: SExp = sexp.loads(completion)\n",
    "        return parsed\n",
    "    except Exception as e:\n",
    "        if \"Not enough closing brackets.\" in  str(e):\n",
    "            return parse_and_repair(add_closing_bracket(completion))\n",
    "        if \"Too many closing brackets.\" in str(e):\n",
    "            return parse_and_repair(remove_closing_bracket(completion))\n",
    "        else:\n",
    "            raise e\n",
    "        \n",
    "for completion in TEST_REPAIR_COMPLETIONS:\n",
    "    print(\"completion:\")\n",
    "    print(completion)\n",
    "    print(\"repaired\")\n",
    "    pprint(parse_and_repair(completion))\n",
    "    print()"
   ]
  },
  {
   "cell_type": "markdown",
   "metadata": {},
   "source": [
    "## string"
   ]
  },
  {
   "cell_type": "code",
   "execution_count": 41,
   "metadata": {},
   "outputs": [
    {
     "data": {
      "text/plain": [
       "['get-first-name-from-name-with-comma.sl',\n",
       " 'strip-html-from-text-or-numbers.sl',\n",
       " 'count-total-words-in-a-cell.sl',\n",
       " 'stackoverflow8.sl',\n",
       " 'phone-6-long.sl',\n",
       " 'phone-10.sl',\n",
       " 'phone-6.sl',\n",
       " 'phone-7-short.sl',\n",
       " 'phone-7.sl',\n",
       " 'univ_6_short.sl']"
      ]
     },
     "execution_count": 41,
     "metadata": {},
     "output_type": "execute_result"
    }
   ],
   "source": [
    "COMPLETIONS_PATH = CURRENT_DIRECTORY / \"string-grammar-completions.json\"\n",
    "COMPLETIONS: t.Dict[str, CompletionJSON] = json.loads(COMPLETIONS_PATH.read_text())\n",
    "\n",
    "list(COMPLETIONS.keys())[:10]"
   ]
  },
  {
   "cell_type": "code",
   "execution_count": 42,
   "metadata": {},
   "outputs": [
    {
     "name": "stdout",
     "output_type": "stream",
     "text": [
      "completion:\n",
      "(define-fun f (name String) String\n",
      "(str.++ (str.substr name 0 4) \"(\" (str.substr name 4 3) \")\" (str.substr name 7 (- (str.len name) 7))))\n",
      "constants\n",
      "[0, 3, 4, 7, ')', '(']\n",
      "\n",
      "completion:\n",
      "(define-fun f (name String) String\n",
      "(str.substr name 4 3)\n",
      "constants\n",
      "[3, 4]\n",
      "\n"
     ]
    }
   ],
   "source": [
    "TEST_COMPLETIONS = [\n",
    "    \"(define-fun f (name String) String\\n(str.++ (str.substr name 0 4) \\\"(\\\" (str.substr name 4 3) \\\")\\\" (str.substr name 7 (- (str.len name) 7))))\",\n",
    "    \"(define-fun f (name String) String\\n(str.substr name 4 3)\",\n",
    "]\n",
    "\n",
    "\n",
    "def get_constants(completion: str) -> t.List[str]:\n",
    "    parsed = parse_and_repair(completion)\n",
    "    return list(set([node for node in walk(parsed) if type(node) == str or type(node) == int]))\n",
    "\n",
    "for completion in TEST_COMPLETIONS:\n",
    "    print(\"completion:\")\n",
    "    print(completion)\n",
    "    print(\"constants\")\n",
    "    print(get_constants(completion))\n",
    "    print()\n"
   ]
  },
  {
   "cell_type": "code",
   "execution_count": 43,
   "metadata": {},
   "outputs": [
    {
     "name": "stdout",
     "output_type": "stream",
     "text": [
      "get-first-name-from-name-with-comma.sl\n",
      "strip-html-from-text-or-numbers.sl\n",
      "count-total-words-in-a-cell.sl\n",
      "stackoverflow8.sl\n",
      "phone-6-long.sl\n",
      "phone-10.sl\n",
      "phone-6.sl\n",
      "phone-7-short.sl\n",
      "phone-7.sl\n",
      "univ_6_short.sl\n",
      "stackoverflow9.sl\n",
      "phone-9-long-repeat.sl\n",
      "get-last-word.sl\n",
      "phone-10_short.sl\n",
      "17212077.sl\n",
      "phone-5.sl\n",
      "39060015.sl\n",
      "phone-7-long-repeat.sl\n",
      "38871714.sl\n",
      "43120683.sl\n",
      "stackoverflow11.sl\n",
      "split-text-string-at-specific-character.sl\n",
      "get-domain-name-from-url.sl\n",
      "get-last-name-from-name-with-comma.sl\n",
      "initials.sl\n",
      "univ_5-long-repeat.sl\n",
      "stackoverflow10.sl\n",
      "phone-9-short.sl\n",
      "phone-6-short.sl\n",
      "43606446.sl\n",
      "initials-long.sl\n",
      "phone-5-long-repeat.sl\n",
      "phone-7-long.sl\n",
      "univ_6-long.sl\n",
      "33619752.sl\n",
      "extract-text-between-parentheses.sl\n",
      "remove-leading-and-trailing-spaces-from-text.sl\n",
      "strip-non-numeric-characters.sl\n",
      "get-middle-name-from-full-name.sl\n",
      "initials_small.sl\n",
      "stackoverflow5.sl\n",
      "extract-word-that-begins-with-specific-character.sl\n",
      "35744094.sl\n",
      "get-last-line-in-cell.sl\n",
      "31753108.sl\n",
      "exceljet4.sl\n",
      "44789427.sl\n",
      "stackoverflow4.sl\n",
      "stackoverflow6.sl\n",
      "univ_4-long.sl\n",
      "phone-5-long.sl\n",
      "phone-5-short.sl\n",
      "11604909.sl\n",
      "phone-9-long.sl\n",
      "univ_4_short.sl\n",
      "phone-10-long.sl\n",
      "phone-9.sl\n",
      "clean-and-reformat-telephone-numbers.sl\n",
      "stackoverflow7.sl\n",
      "univ_4-long-repeat.sl\n",
      "strip-numeric-characters-from-cell.sl\n",
      "36462127.sl\n",
      "exceljet3.sl\n",
      "stackoverflow3.sl\n",
      "univ_5-long.sl\n",
      "exceljet2.sl\n",
      "univ_6.sl\n",
      "stackoverflow2.sl\n",
      "phone-6-long-repeat.sl\n",
      "25239569.sl\n",
      "univ_5_short.sl\n",
      "remove-text-by-position.sl\n",
      "univ_6-long-repeat.sl\n",
      "univ_4.sl\n",
      "phone-10-long-repeat.sl\n",
      "univ_5.sl\n",
      "stackoverflow1.sl\n",
      "exceljet1.sl\n",
      "initials-long-repeat.sl\n",
      "find-nth-occurrence-of-character.sl\n",
      "extract-word-containing-specific-text.sl\n",
      "extract-nth-word-from-text-string.sl\n"
     ]
    },
    {
     "data": {
      "text/plain": [
       "{'solutions': ['(define-fun f (_arg_0 String _arg_1 Int) String\\n(str.at (str.split \",\" _arg_0) (- _arg_1 1)))',\n",
       "  '(define-fun f (_arg_0 String _arg_1 Int) String\\n(let ((split (str.split _arg_0 \", \")))\\n  (ite (= _arg_1 1) \\n       (str.at split 1) \\n       (str.at split 0))))',\n",
       "  '(define-fun f (_arg_0 String _arg_1 Int) String\\n(let ((s (str.split _arg_0 \",\")))\\n  (ite (= _arg_1 1) (str.trim (nth 1 s)) (str.trim (nth 0 s)))))',\n",
       "  '(define-fun f (_arg_0 String _arg_1 Int) String\\n(let ((split (str.substr _arg_0 0 (str.indexof _arg_0 \",\" 0))))\\n  (ite (= _arg_1 2) split (str.substr _arg_0 (+ (str.len split) 1) (- (str.len _arg_0) (+ (str.len split) 1))))))',\n",
       "  '(define-fun f (_arg_0 String _arg_1 Int) String\\n(let ((s (str.split _arg_0 \", \")))\\n  (if (= _arg_1 1) \\n      (str.at s 1) \\n      (str.at s 0))))',\n",
       "  '(define-fun f (_arg_0 String _arg_1 Int) String\\n(let ((names (str.split _arg_0 \",\")))\\n  (if (= _arg_1 1)\\n      (str.trim (nth names 1))\\n      (str.trim (nth names 0)))))',\n",
       "  '(define-fun f (_arg_0 String _arg_1 Int) String\\n(str.at (str.split _arg_0 \",\") (- _arg_1 1)))',\n",
       "  '(define-fun f (_arg_0 String _arg_1 Int) String\\n(let ((parts (str.split _arg_0 \",\")))\\n  (ite (= _arg_1 1)\\n    (str.trim (nth parts 1))\\n    (str.trim (nth parts 0)))))',\n",
       "  '(define-fun f (_arg_0 String _arg_1 Int) String\\n(let ((parts (str.split _arg_0 \",\")))\\n  (ite (= _arg_1 1) (str.trim (nth parts 1)) (str.trim (nth parts 0)))))',\n",
       "  '(define-fun f (_arg_0 String _arg_1 Int) String\\n(str.at (str.split \",\" _arg_0) (- _arg_1 1)))'],\n",
       " 'time_ms': 22.629,\n",
       " 'constants': [[1, ','],\n",
       "  [0, 1, ', '],\n",
       "  [0, 1, ','],\n",
       "  [0, 1, 2, ','],\n",
       "  [0, 1, ', '],\n",
       "  [0, 1, ','],\n",
       "  [1, ','],\n",
       "  [0, 1, ','],\n",
       "  [0, 1, ','],\n",
       "  [1, ',']],\n",
       " 'all_constants': [0, 1, 2, ',', ', ']}"
      ]
     },
     "execution_count": 43,
     "metadata": {},
     "output_type": "execute_result"
    }
   ],
   "source": [
    "for key, completions in COMPLETIONS.items():\n",
    "    print(key)\n",
    "    \n",
    "    constants = []\n",
    "    for completion in completions[\"solutions\"]:\n",
    "        try:\n",
    "            constants.append(get_constants(completion))\n",
    "        except Exception as e:\n",
    "            print(e)\n",
    "            print(completion)\n",
    "            print()\n",
    "            constants.append([])\n",
    "            continue\n",
    "    completions[\"constants\"] = constants\n",
    "    completions[\"all_constants\"] = list(set(sum(constants, [])))\n",
    "\n",
    "COMPLETIONS[list(COMPLETIONS.keys())[0]]"
   ]
  },
  {
   "cell_type": "code",
   "execution_count": 44,
   "metadata": {},
   "outputs": [
    {
     "data": {
      "text/plain": [
       "173290"
      ]
     },
     "execution_count": 44,
     "metadata": {},
     "output_type": "execute_result"
    }
   ],
   "source": [
    "OUTPUT_PATH = CURRENT_DIRECTORY / \"string-grammar-completions-with-constants.json\"\n",
    "OUTPUT_PATH.write_text(json.dumps(COMPLETIONS, indent=2))"
   ]
  },
  {
   "cell_type": "markdown",
   "metadata": {},
   "source": [
    "## larger-string-grammar"
   ]
  },
  {
   "cell_type": "code",
   "execution_count": 33,
   "metadata": {},
   "outputs": [
    {
     "data": {
      "text/plain": [
       "['exceljet2modified.sl',\n",
       " '31753108modified.sl',\n",
       " 'find-nth-occurrence-of-charactermodified.sl',\n",
       " 'clean-and-reformat-telephone-numbersmodified.sl',\n",
       " '17212077modified.sl',\n",
       " '11604909modified.sl',\n",
       " 'stackoverflow4modified.sl',\n",
       " 'remove-text-by-positionmodified.sl',\n",
       " '44789427modified.sl',\n",
       " 'stackoverflow11modified.sl']"
      ]
     },
     "execution_count": 33,
     "metadata": {},
     "output_type": "execute_result"
    }
   ],
   "source": [
    "COMPLETIONS_PATH = CURRENT_DIRECTORY / \"larger-string-grammar-completions.json\"\n",
    "COMPLETIONS: t.Dict[str, CompletionJSON] = json.loads(COMPLETIONS_PATH.read_text())\n",
    "\n",
    "list(COMPLETIONS.keys())[:10]"
   ]
  },
  {
   "cell_type": "code",
   "execution_count": 38,
   "metadata": {},
   "outputs": [
    {
     "name": "stdout",
     "output_type": "stream",
     "text": [
      "completion:\n",
      "(define-fun f (_arg_0 String) String\n",
      "(str.substr _arg_0 (+ (str.indexof _arg_0 \".\" (- (str.len _arg_0) 1)) 1) (- (str.len _arg_0) (+ (str.indexof _arg_0 \".\" (- (str.len _arg_0) 1)) 1))))\n",
      "constants\n",
      "[1, '.']\n",
      "\n",
      "completion:\n",
      "(define-fun f (_arg_0 String _arg_1 Int) String\n",
      "(str.at (str.++ _arg_0 \" \") (+ (str.indexof (str.++ _arg_0 \" \") \" \" (- _arg_1 1)) 1)))\n",
      "constants\n",
      "[1, ' ']\n",
      "\n",
      "completion:\n",
      "(define-fun f (_arg_0 String) String\n",
      "(let ((first_space (str.indexof _arg_0 \" \" 0)) (second_space (str.indexof _arg_0 \" \" (+ (str.indexof _arg_0 \" \" 0) 1))))\n",
      "  (ite (= first_space -1) \"\"\n",
      "    (ite (= second_space -1) (str.substr _arg_0 (+ first_space 1) (- (str.len _arg_0) (+ first_space 1)))\n",
      "      (str.substr _arg_0 (+ first_space 1) (- second_space (+ first_space 1)))))))\n",
      "constants\n",
      "[0, 1, '', ' ', -1]\n",
      "\n"
     ]
    }
   ],
   "source": [
    "TEST_COMPLETIONS = [\n",
    "    \"(define-fun f (_arg_0 String) String\\n(str.substr _arg_0 (+ (str.indexof _arg_0 \\\".\\\" (- (str.len _arg_0) 1)) 1) (- (str.len _arg_0) (+ (str.indexof _arg_0 \\\".\\\" (- (str.len _arg_0) 1)) 1))))\",\n",
    "    \"(define-fun f (_arg_0 String _arg_1 Int) String\\n(str.at (str.++ _arg_0 \\\" \\\") (+ (str.indexof (str.++ _arg_0 \\\" \\\") \\\" \\\" (- _arg_1 1)) 1)))\",\n",
    "    \"(define-fun f (_arg_0 String) String\\n(let ((first_space (str.indexof _arg_0 \\\" \\\" 0)) (second_space (str.indexof _arg_0 \\\" \\\" (+ (str.indexof _arg_0 \\\" \\\" 0) 1))))\\n  (ite (= first_space -1) \\\"\\\"\\n    (ite (= second_space -1) (str.substr _arg_0 (+ first_space 1) (- (str.len _arg_0) (+ first_space 1)))\\n      (str.substr _arg_0 (+ first_space 1) (- second_space (+ first_space 1)))))))\",\n",
    "]\n",
    "\n",
    "def get_constants(completion: str) -> t.List[str]:\n",
    "    parsed = parse_and_repair(completion)\n",
    "    return list(set([node for node in walk(parsed) if type(node) == str or type(node) == int]))\n",
    "\n",
    "for completion in TEST_COMPLETIONS:\n",
    "    print(\"completion:\")\n",
    "    print(completion)\n",
    "    print(\"constants\")\n",
    "    print(get_constants(completion))\n",
    "    print()"
   ]
  },
  {
   "cell_type": "code",
   "execution_count": 39,
   "metadata": {},
   "outputs": [
    {
     "name": "stdout",
     "output_type": "stream",
     "text": [
      "exceljet2modified.sl\n",
      "31753108modified.sl\n",
      "find-nth-occurrence-of-charactermodified.sl\n",
      "clean-and-reformat-telephone-numbersmodified.sl\n",
      "17212077modified.sl\n",
      "11604909modified.sl\n",
      "stackoverflow4modified.sl\n",
      "remove-text-by-positionmodified.sl\n",
      "44789427modified.sl\n",
      "stackoverflow11modified.sl\n",
      "stackoverflow3modified.sl\n",
      "initials-longmodified.sl\n",
      "phone-7modified.sl\n",
      "43606446modified.sl\n",
      "extract-nth-word-from-text-stringmodified.sl\n",
      "remove-leading-and-trailing-spaces-from-textmodified.sl\n",
      "phone-5-long-repeatmodified.sl\n",
      "count-total-words-in-a-cellmodified.sl\n",
      "stackoverflow8modified.sl\n",
      "strip-numeric-characters-from-cellmodified.sl\n",
      "phone-9modified.sl\n",
      "initialsmodified.sl\n",
      "phone-10-long-repeatmodified.sl\n",
      "39060015modified.sl\n",
      "phone-7-long-repeatmodified.sl\n",
      "stackoverflow6modified.sl\n",
      "strip-non-numeric-charactersmodified.sl\n",
      "stackoverflow1modified.sl\n",
      "get-last-wordmodified.sl\n",
      "phone-5modified.sl\n",
      "phone-6-long-repeatmodified.sl\n",
      "get-last-line-in-cellmodified.sl\n",
      "phone-9-shortmodified.sl\n",
      "38871714modified.sl\n",
      "phone-5-shortmodified.sl\n",
      "initials_smallmodified.sl\n",
      "get-domain-name-from-urlmodified.sl\n",
      "get-middle-name-from-full-namemodified.sl\n",
      "35744094modified.sl\n",
      "extract-text-between-parenthesesmodified.sl\n",
      "phone-5-longmodified.sl\n",
      "phone-9-long-repeatmodified.sl\n",
      "exceljet1modified.sl\n",
      "phone-7-shortmodified.sl\n",
      "extract-word-containing-specific-textmodified.sl\n",
      "stackoverflow7modified.sl\n",
      "phone-6-shortmodified.sl\n",
      "43120683modified.sl\n",
      "split-text-string-at-specific-charactermodified.sl\n",
      "phone-7-longmodified.sl\n",
      "phone-6modified.sl\n",
      "phone-10-longmodified.sl\n",
      "stackoverflow2modified.sl\n",
      "stackoverflow9modified.sl\n",
      "strip-html-from-text-or-numbersmodified.sl\n",
      "phone-10modified.sl\n",
      "phone-9-longmodified.sl\n",
      "exceljet4modified.sl\n",
      "33619752modified.sl\n",
      "phone-6-longmodified.sl\n",
      "get-last-name-from-name-with-commamodified.sl\n",
      "initials-long-repeatmodified.sl\n",
      "exceljet3modified.sl\n",
      "phone-10_shortmodified.sl\n",
      "get-first-name-from-name-with-commamodified.sl\n",
      "stackoverflow10modified.sl\n",
      "25239569modified.sl\n",
      "36462127modified.sl\n",
      "stackoverflow5modified.sl\n",
      "extract-word-that-begins-with-specific-charactermodified.sl\n"
     ]
    },
    {
     "data": {
      "text/plain": [
       "{'solutions': ['(define-fun f (_arg_0 String) String\\n(str.substr _arg_0 (+ (str.indexof _arg_0 \".\" (- (str.len _arg_0) 1)) 1) (- (str.len _arg_0) (+ (str.indexof _arg_0 \".\" (- (str.len _arg_0) 1)) 1))))',\n",
       "  '(define-fun f (_arg_0 String) String\\n(str.substr _arg_0 (+ (str.indexof _arg_0 \".\" (- (str.len _arg_0) 1)) 1) (- (str.len _arg_0) (+ (str.indexof _arg_0 \".\" (- (str.len _arg_0) 1)) 1))))',\n",
       "  '(define-fun f (_arg_0 String) String\\n(str.substr _arg_0 (+ 1 (str.indexof _arg_0 \".\" (- (str.len _arg_0) 1))) (- (str.len _arg_0) (+ 1 (str.indexof _arg_0 \".\" (- (str.len _arg_0) 1))))))',\n",
       "  '(define-fun f (_arg_0 String) String\\n(str.substr _arg_0 (+ (str.indexof _arg_0 \".\" (- (str.len _arg_0) 1)) 1) (- (str.len _arg_0) (+ (str.indexof _arg_0 \".\" (- (str.len _arg_0) 1)) 1))))',\n",
       "  '(define-fun f (_arg_0 String) String\\n(str.substr _arg_0 (+ (str.indexof _arg_0 \".\" (- (str.len _arg_0) 1)) 1) (- (str.len _arg_0) (+ (str.indexof _arg_0 \".\" (- (str.len _arg_0) 1)) 1))))',\n",
       "  '(define-fun f (_arg_0 String) String\\n(str.substr _arg_0 (+ 1 (str.indexof _arg_0 \".\" (- (str.len _arg_0) 1))) (- (str.len _arg_0) (+ 1 (str.indexof _arg_0 \".\" (- (str.len _arg_0) 1))))))',\n",
       "  '(define-fun f (_arg_0 String) String\\n(str.substr _arg_0 (+ (str.indexof _arg_0 \".\" (- (str.len _arg_0) 1)) 1) (- (str.len _arg_0) (+ (str.indexof _arg_0 \".\" (- (str.len _arg_0) 1)) 1))))',\n",
       "  '(define-fun f (_arg_0 String) String\\n(str.substr _arg_0 (+ 1 (str.indexof _arg_0 \".\" (- (str.len _arg_0) 1))) (- (str.len _arg_0) (+ 1 (str.indexof _arg_0 \".\" (- (str.len _arg_0) 1))))))',\n",
       "  '(define-fun f (_arg_0 String) String\\n(str.substr _arg_0 (+ (str.indexof _arg_0 \".\" (- (str.len _arg_0) 1)) 1) (- (str.len _arg_0) (+ (str.indexof _arg_0 \".\" (- (str.len _arg_0) 1)) 1))))',\n",
       "  '(define-fun f (_arg_0 String) String\\n(str.substr _arg_0 (+ 1 (str.indexof _arg_0 \".\" (- (str.len _arg_0) 1))) (- (str.len _arg_0) (+ 1 (str.indexof _arg_0 \".\" (- (str.len _arg_0) 1))))))'],\n",
       " 'time_ms': 773.361,\n",
       " 'constants': [[1, '.'],\n",
       "  [1, '.'],\n",
       "  [1, '.'],\n",
       "  [1, '.'],\n",
       "  [1, '.'],\n",
       "  [1, '.'],\n",
       "  [1, '.'],\n",
       "  [1, '.'],\n",
       "  [1, '.'],\n",
       "  [1, '.']],\n",
       " 'all_constants': [1, '.']}"
      ]
     },
     "execution_count": 39,
     "metadata": {},
     "output_type": "execute_result"
    }
   ],
   "source": [
    "for key, completions in COMPLETIONS.items():\n",
    "    print(key)\n",
    "    \n",
    "    constants = []\n",
    "    for completion in completions[\"solutions\"]:\n",
    "        try:\n",
    "            constants.append(get_constants(completion))\n",
    "        except Exception as e:\n",
    "            print(e)\n",
    "            print(completion)\n",
    "            print()\n",
    "            constants.append([])\n",
    "            continue\n",
    "    completions[\"constants\"] = constants\n",
    "    completions[\"all_constants\"] = list(set(sum(constants, [])))\n",
    "\n",
    "COMPLETIONS[list(COMPLETIONS.keys())[0]]"
   ]
  },
  {
   "cell_type": "code",
   "execution_count": 40,
   "metadata": {},
   "outputs": [
    {
     "data": {
      "text/plain": [
       "163291"
      ]
     },
     "execution_count": 40,
     "metadata": {},
     "output_type": "execute_result"
    }
   ],
   "source": [
    "OUTPUT_PATH = CURRENT_DIRECTORY / \"larger-string-grammar-completions-with-constants.json\"\n",
    "OUTPUT_PATH.write_text(json.dumps(COMPLETIONS, indent=2))"
   ]
  },
  {
   "cell_type": "markdown",
   "metadata": {},
   "source": [
    "## hacker's delight"
   ]
  },
  {
   "cell_type": "code",
   "execution_count": 45,
   "metadata": {},
   "outputs": [
    {
     "data": {
      "text/plain": [
       "['hd-25.sl',\n",
       " 'hd-24.sl',\n",
       " 'hd-09.sl',\n",
       " 'hd-26.sl',\n",
       " 'hd-27.sl',\n",
       " 'hd-08.sl',\n",
       " 'hd-23.sl',\n",
       " 'hd-22.sl',\n",
       " 'hd-18.sl',\n",
       " 'hd-20.sl']"
      ]
     },
     "execution_count": 45,
     "metadata": {},
     "output_type": "execute_result"
    }
   ],
   "source": [
    "COMPLETIONS_PATH = CURRENT_DIRECTORY / \"hackers-delight-completions.json\"\n",
    "COMPLETIONS: t.Dict[str, CompletionJSON] = json.loads(COMPLETIONS_PATH.read_text())\n",
    "\n",
    "list(COMPLETIONS.keys())[:10]"
   ]
  },
  {
   "cell_type": "code",
   "execution_count": 50,
   "metadata": {},
   "outputs": [
    {
     "name": "stdout",
     "output_type": "stream",
     "text": [
      "completion:\n",
      "(define-fun f (x (BitVec 64) y (BitVec 64)) (BitVec 64)\n",
      "(bvlshr (bvmul x y) \\#x0000000000000020))\n",
      "constants\n",
      "[64, '#x0000000000000020']\n",
      "\n",
      "completion:\n",
      "(define-fun f (x (BitVec 64) m (BitVec 64) k (BitVec 64)) (BitVec 64)\n",
      "(bvor (bvor (bvand (bvshl (bvand x m) k) m) (bvand (bvlshr (bvand x m) k) m)) (bvand x (bvnot m))))\n",
      "constants\n",
      "[64]\n",
      "\n",
      "completion:\n",
      "(define-fun f (x (BitVec 64) y (BitVec 64)) (BitVec 64)\n",
      "(bvudiv (bvadd x y) \\#x0000000000000002))\n",
      "constants\n",
      "[64, '#x0000000000000002']\n",
      "\n"
     ]
    }
   ],
   "source": [
    "TEST_COMPLETIONS = [\n",
    "    \"(define-fun f (x (BitVec 64) y (BitVec 64)) (BitVec 64)\\n(bvlshr (bvmul x y) \\\\#x0000000000000020))\",\n",
    "    \"(define-fun f (x (BitVec 64) m (BitVec 64) k (BitVec 64)) (BitVec 64)\\n(bvor (bvor (bvand (bvshl (bvand x m) k) m) (bvand (bvlshr (bvand x m) k) m)) (bvand x (bvnot m))))\",\n",
    "    \"(define-fun f (x (BitVec 64) y (BitVec 64)) (BitVec 64)\\n(bvudiv (bvadd x y) \\\\#x0000000000000002))\"\n",
    "]\n",
    "\n",
    "def get_constants(completion: str) -> t.List[str]:\n",
    "    parsed = parse_and_repair(completion)\n",
    "    ans = list(set([\n",
    "        node for node in walk(parsed) \n",
    "        if type(node) != list and \n",
    "        not (\n",
    "            type(node) == sexp.Symbol and\n",
    "            not node.value().startswith(\"#\")\n",
    "        )]))\n",
    "    return [\n",
    "        node.value() if type(node) == sexp.Symbol else node\n",
    "        for node in ans\n",
    "    ]\n",
    "\n",
    "for completion in TEST_COMPLETIONS:\n",
    "    print(\"completion:\")\n",
    "    print(completion)\n",
    "    print(\"constants\")\n",
    "    print(get_constants(completion))\n",
    "    print()"
   ]
  },
  {
   "cell_type": "code",
   "execution_count": 51,
   "metadata": {},
   "outputs": [
    {
     "name": "stdout",
     "output_type": "stream",
     "text": [
      "hd-25.sl\n",
      "hd-24.sl\n",
      "hd-09.sl\n",
      "hd-26.sl\n",
      "hd-27.sl\n",
      "hd-08.sl\n",
      "hd-23.sl\n",
      "hd-22.sl\n",
      "hd-18.sl\n",
      "hd-20.sl\n",
      "hd-21.sl\n",
      "hd-19.sl\n",
      "hd-07.sl\n",
      "hd-10.sl\n",
      "hd-11.sl\n",
      "hd-06.sl\n",
      "hd-04.sl\n",
      "hd-13.sl\n",
      "hd-12.sl\n",
      "hd-05.sl\n",
      "hd-16.sl\n",
      "hd-01.sl\n",
      "hd-17.sl\n",
      "hd-15.sl\n",
      "hd-02.sl\n",
      "hd-03.sl\n",
      "hd-14.sl\n"
     ]
    },
    {
     "data": {
      "text/plain": [
       "{'solutions': ['(define-fun f (x (BitVec 64) y (BitVec 64)) (BitVec 64)\\n(bvlshr (bvmul x y) \\\\#x0000000000000020))',\n",
       "  '(define-fun f (x (BitVec 64) y (BitVec 64)) (BitVec 64)\\n(bvlshr (bvmul x y) \\\\#x0000000000000020))',\n",
       "  '(define-fun f (x (BitVec 64) y (BitVec 64)) (BitVec 64)\\n(bvlshr (bvmul x y) #x0000000000000020))',\n",
       "  '(define-fun f (x (BitVec 64) y (BitVec 64)) (BitVec 64)\\n(bvlshr (bvmul x y) \\\\#x0000000000000020))',\n",
       "  '(define-fun f (x (BitVec 64) y (BitVec 64)) (BitVec 64)\\n(bvlshr (bvmul x y) \\\\#x0000000000000020))',\n",
       "  '(define-fun f (x (BitVec 64) y (BitVec 64)) (BitVec 64)\\n(bvlshr (bvmul x y) \\\\#x0000000000000020))',\n",
       "  '(define-fun f (x (BitVec 64) y (BitVec 64)) (BitVec 64)\\n(bvlshr (bvmul x y) #x0000000000000020))',\n",
       "  '(define-fun f (x (BitVec 64) y (BitVec 64)) (BitVec 64)\\n(bvlshr (bvmul x y) #x0000000000000020))',\n",
       "  '(define-fun f (x (BitVec 64) y (BitVec 64)) (BitVec 64)\\n(bvlshr (bvmul x y) \\\\#x0000000000000020))',\n",
       "  '(define-fun f (x (BitVec 64) y (BitVec 64)) (BitVec 64)\\n(bvlshr (bvmul x y) \\\\#x0000000000000020))'],\n",
       " 'time_ms': 175.281,\n",
       " 'constants': [[64, '#x0000000000000020'],\n",
       "  [64, '#x0000000000000020'],\n",
       "  [64, '#x0000000000000020'],\n",
       "  [64, '#x0000000000000020'],\n",
       "  [64, '#x0000000000000020'],\n",
       "  [64, '#x0000000000000020'],\n",
       "  [64, '#x0000000000000020'],\n",
       "  [64, '#x0000000000000020'],\n",
       "  [64, '#x0000000000000020'],\n",
       "  [64, '#x0000000000000020']],\n",
       " 'all_constants': [64, '#x0000000000000020']}"
      ]
     },
     "execution_count": 51,
     "metadata": {},
     "output_type": "execute_result"
    }
   ],
   "source": [
    "for key, completions in COMPLETIONS.items():\n",
    "    print(key)\n",
    "    \n",
    "    constants = []\n",
    "    for completion in completions[\"solutions\"]:\n",
    "        try:\n",
    "            constants.append(get_constants(completion))\n",
    "        except Exception as e:\n",
    "            print(e)\n",
    "            print(completion)\n",
    "            print()\n",
    "            constants.append([])\n",
    "            continue\n",
    "    completions[\"constants\"] = constants\n",
    "    completions[\"all_constants\"] = list(set(sum(constants, [])))\n",
    "\n",
    "COMPLETIONS[list(COMPLETIONS.keys())[0]]"
   ]
  },
  {
   "cell_type": "code",
   "execution_count": 53,
   "metadata": {},
   "outputs": [
    {
     "data": {
      "text/plain": [
       "57647"
      ]
     },
     "execution_count": 53,
     "metadata": {},
     "output_type": "execute_result"
    }
   ],
   "source": [
    "OUTPUT_PATH = CURRENT_DIRECTORY / \"hackers-delight-completions-with-constants.json\"\n",
    "OUTPUT_PATH.write_text(json.dumps(COMPLETIONS, indent=2))"
   ]
  },
  {
   "cell_type": "code",
   "execution_count": null,
   "metadata": {},
   "outputs": [],
   "source": []
  }
 ],
 "metadata": {
  "kernelspec": {
   "display_name": ".venv",
   "language": "python",
   "name": "python3"
  },
  "language_info": {
   "codemirror_mode": {
    "name": "ipython",
    "version": 3
   },
   "file_extension": ".py",
   "mimetype": "text/x-python",
   "name": "python",
   "nbconvert_exporter": "python",
   "pygments_lexer": "ipython3",
   "version": "3.10.12"
  }
 },
 "nbformat": 4,
 "nbformat_minor": 2
}
