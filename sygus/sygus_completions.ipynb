{
 "cells": [
  {
   "cell_type": "markdown",
   "metadata": {},
   "source": [
    "# Sygus completions"
   ]
  },
  {
   "cell_type": "code",
   "execution_count": null,
   "metadata": {},
   "outputs": [],
   "source": [
    "import os\n",
    "import sys\n",
    "from pathlib import Path\n",
    "\n",
    "CURRENT_DIRECTORY = Path(os.getcwd())\n",
    "ROOT_DIRECTORY = (CURRENT_DIRECTORY / \"..\").absolute().resolve()\n",
    "\n",
    "print(f\"Current directory: {CURRENT_DIRECTORY}\")\n",
    "print(f\"Root directory: {ROOT_DIRECTORY}\")\n",
    "\n",
    "sys.path.append(str(ROOT_DIRECTORY))"
   ]
  },
  {
   "cell_type": "code",
   "execution_count": null,
   "metadata": {},
   "outputs": [],
   "source": [
    "from sygus.utils import sample_gpt_solutions, SygusProblem, SygusBenchmark, cleanup_completion, add_sygus_prefix"
   ]
  },
  {
   "cell_type": "code",
   "execution_count": null,
   "metadata": {},
   "outputs": [],
   "source": [
    "import typing as t\n",
    "from pprint import pprint\n",
    "from dataclasses import dataclass\n",
    "import sexpdata as sexp\n",
    "from sexpdata import Symbol\n",
    "import json\n",
    "import random\n",
    "import math\n",
    "import re"
   ]
  },
  {
   "cell_type": "code",
   "execution_count": null,
   "metadata": {},
   "outputs": [],
   "source": [
    "BENCHMARKS_DIRECTORY = ROOT_DIRECTORY / \"sygus/Probe/src/test/benchmarks\"\n",
    "CIRCUIT_DIRECTORY = BENCHMARKS_DIRECTORY / \"circuit/test\"\n",
    "HACKERS_DELIGHT_DIRECTORY = BENCHMARKS_DIRECTORY / \"hackers-delight\"\n",
    "LARGER_STRING_GRAMMAR_DIRECTORY = BENCHMARKS_DIRECTORY / \"larger-grammar\"\n",
    "STRING_GRAMMAR_DIRECTORY = BENCHMARKS_DIRECTORY / \"string\""
   ]
  },
  {
   "cell_type": "markdown",
   "metadata": {},
   "source": [
    "## testing completion cleanup and parsing"
   ]
  },
  {
   "cell_type": "code",
   "execution_count": null,
   "metadata": {},
   "outputs": [],
   "source": [
    "EXAMPLES = [\n",
    "    '```python\\n(define-fun f ((_arg_0 String)) String (str.substr _arg_0 (+ (str.indexof _arg_0 \".\") 1) (str.len _arg_0)))\\n```',\n",
    "    '\\n  (str.substr _arg_0 (+ (str.indexof _arg_0 \".\") 1) (str.len _arg_0))\\n)',\n",
    "    '`(str.substr _arg_0 (+ (str.indexof _arg_0 \".\") 1) (str.len _arg_0))`',\n",
    "    '(define-fun f ((_arg_0 String)) String (str.++ (str.++ \\\"R/\\\" (int.to.str (str.to.int (str.substr _arg_0 5 3)))) \\\" \\\" (int.to.str (str.to.int (str.substr _arg_0 9 3))) \\\" \\\" (int.to.str (str.to.int (str.substr _arg_0 13 3)))))',\n",
    "    \") (str.replace _arg_0 \\\",\\\" \\\"\\\") \\\",\\\")\",\n",
    "    \"```python\\n(str.substr name 6 3)\\n```\"\n",
    "]\n",
    "\n",
    "for example in EXAMPLES:\n",
    "    print(\"original\")\n",
    "    print(example)\n",
    "    print(\"cleaned\")\n",
    "    print(cleanup_completion(example))\n",
    "    print()"
   ]
  },
  {
   "cell_type": "code",
   "execution_count": null,
   "metadata": {},
   "outputs": [],
   "source": [
    "EXAMPLES = [\n",
    "    ('(define-fun f ((_arg_0 String)) String (str.++ (str.++ \\\"R/\\\" (int.to.str (str.to.int (str.substr _arg_0 5 3)))) \\\" \\\" (int.to.str (str.to.int (str.substr _arg_0 9 3))) \\\" \\\" (int.to.str (str.to.int (str.substr _arg_0 13 3)))))', '(define-fun f (_arg_0 String) String'),\n",
    "    (\"(str.replace _arg_0 \\\",\\\" \\\"\\\") \\\",\\\")\", '(define-fun f (_arg_0 String) String')\n",
    "]\n",
    "\n",
    "for completion, prefix in EXAMPLES:\n",
    "    print(\"original\")\n",
    "    print(completion)\n",
    "    print(\"with prefix\")\n",
    "    print(add_sygus_prefix(completion, prefix))\n",
    "    print()\n"
   ]
  },
  {
   "cell_type": "markdown",
   "metadata": {},
   "source": [
    "## Generating Completions"
   ]
  },
  {
   "cell_type": "markdown",
   "metadata": {},
   "source": [
    "### Larger String Grammar"
   ]
  },
  {
   "cell_type": "code",
   "execution_count": null,
   "metadata": {},
   "outputs": [],
   "source": [
    "LARGER_STRING_GRAMMAR_OUTPUT_FILE = ROOT_DIRECTORY / \"sygus/larger-string-grammar-completions.gpt-3.5-turbo.json\""
   ]
  },
  {
   "cell_type": "code",
   "execution_count": null,
   "metadata": {},
   "outputs": [],
   "source": [
    "if LARGER_STRING_GRAMMAR_OUTPUT_FILE.exists():\n",
    "    LARGER_STRING_BENCHMARK = SygusBenchmark.read_from_file(LARGER_STRING_GRAMMAR_OUTPUT_FILE, LARGER_STRING_GRAMMAR_DIRECTORY)\n",
    "else:\n",
    "    LARGER_STRING_BENCHMARK = SygusBenchmark(\n",
    "        LARGER_STRING_GRAMMAR_DIRECTORY\n",
    "    )"
   ]
  },
  {
   "cell_type": "code",
   "execution_count": null,
   "metadata": {},
   "outputs": [],
   "source": [
    "print(LARGER_STRING_BENCHMARK.sygus[\"exceljet2modified.sl\"].user_message)"
   ]
  },
  {
   "cell_type": "code",
   "execution_count": null,
   "metadata": {},
   "outputs": [],
   "source": [
    "for filename, problem in LARGER_STRING_BENCHMARK.sygus.items():\n",
    "    pprint(filename)\n",
    "    pprint(problem.signature)\n",
    "    pprint(problem.examples)"
   ]
  },
  {
   "cell_type": "code",
   "execution_count": null,
   "metadata": {},
   "outputs": [],
   "source": [
    "LARGER_STRING_BENCHMARK.sample_solutions(model=\"gpt-3.5-turbo\", n=20)"
   ]
  },
  {
   "cell_type": "code",
   "execution_count": null,
   "metadata": {},
   "outputs": [],
   "source": [
    "LARGER_STRING_BENCHMARK.write(LARGER_STRING_GRAMMAR_OUTPUT_FILE)"
   ]
  },
  {
   "cell_type": "markdown",
   "metadata": {},
   "source": [
    "### String Grammar"
   ]
  },
  {
   "cell_type": "code",
   "execution_count": null,
   "metadata": {},
   "outputs": [],
   "source": [
    "STRING_BENCHMARK_OUTPUT_FILE = ROOT_DIRECTORY / \"sygus/string-grammar-completions.gpt-3.5-turbo.json\""
   ]
  },
  {
   "cell_type": "code",
   "execution_count": null,
   "metadata": {},
   "outputs": [],
   "source": [
    "if STRING_BENCHMARK_OUTPUT_FILE.exists():\n",
    "    STRING_BENCHMARK = SygusBenchmark.read_from_file(STRING_BENCHMARK_OUTPUT_FILE, STRING_GRAMMAR_DIRECTORY)\n",
    "else:\n",
    "    STRING_BENCHMARK = SygusBenchmark(\n",
    "        STRING_GRAMMAR_DIRECTORY\n",
    "    )"
   ]
  },
  {
   "cell_type": "code",
   "execution_count": null,
   "metadata": {},
   "outputs": [],
   "source": [
    "print(STRING_BENCHMARK.sygus[\"get-first-name-from-name-with-comma.sl\"].user_message)"
   ]
  },
  {
   "cell_type": "code",
   "execution_count": null,
   "metadata": {},
   "outputs": [],
   "source": [
    "for filename, problem in STRING_BENCHMARK.sygus.items():\n",
    "    pprint(filename)\n",
    "    pprint(problem.signature)\n",
    "    pprint(problem.examples)\n",
    "    pprint(len(STRING_BENCHMARK.output.get(filename, {\n",
    "        \"completions\": []\n",
    "    })[\"completions\"]))"
   ]
  },
  {
   "cell_type": "code",
   "execution_count": null,
   "metadata": {},
   "outputs": [],
   "source": [
    "STRING_BENCHMARK.sample_solutions(model=\"gpt-3.5-turbo\", n=20)"
   ]
  },
  {
   "cell_type": "code",
   "execution_count": null,
   "metadata": {},
   "outputs": [],
   "source": [
    "\n",
    "STRING_BENCHMARK.write(STRING_BENCHMARK_OUTPUT_FILE)"
   ]
  },
  {
   "cell_type": "markdown",
   "metadata": {},
   "source": [
    "### Circuit"
   ]
  },
  {
   "cell_type": "code",
   "execution_count": null,
   "metadata": {},
   "outputs": [],
   "source": [
    "CIRCUIT_OUTPUT_FILE = ROOT_DIRECTORY / \"sygus/circuit-completions.gpt-3.5-turbo.json\""
   ]
  },
  {
   "cell_type": "code",
   "execution_count": null,
   "metadata": {},
   "outputs": [],
   "source": [
    "CIRCUIT_EXAMPLES_FILE = ROOT_DIRECTORY / \"sygus/io-results-circuit.json\"\n",
    "CIRCUIT_EXAMPLES_JSON = json.loads(CIRCUIT_EXAMPLES_FILE.read_text())\n",
    "pprint(CIRCUIT_EXAMPLES_JSON[\"CrCy_10-sbox2-D5-sIn79.sl\"])\n",
    "\n",
    "CIRCUIT_EXAMPLES = {}\n",
    "\n",
    "for filename, examples in CIRCUIT_EXAMPLES_JSON.items():\n",
    "    example_tuples = [(example[\"inputs\"], example[\"output\"]) for example in examples]\n",
    "    CIRCUIT_EXAMPLES[filename] = random.sample(example_tuples, 10) if len(example_tuples) > 10 else example_tuples\n",
    "\n",
    "pprint(CIRCUIT_EXAMPLES[\"CrCy_10-sbox2-D5-sIn79.sl\"])"
   ]
  },
  {
   "cell_type": "code",
   "execution_count": null,
   "metadata": {},
   "outputs": [],
   "source": [
    "if CIRCUIT_OUTPUT_FILE.exists():\n",
    "    CIRCUIT_BENCHMARK = SygusBenchmark.read_from_file(CIRCUIT_OUTPUT_FILE, CIRCUIT_DIRECTORY, CIRCUIT_EXAMPLES)\n",
    "else:\n",
    "    CIRCUIT_BENCHMARK = SygusBenchmark(\n",
    "        CIRCUIT_DIRECTORY, CIRCUIT_EXAMPLES\n",
    "    )"
   ]
  },
  {
   "cell_type": "code",
   "execution_count": null,
   "metadata": {},
   "outputs": [],
   "source": [
    "print(CIRCUIT_BENCHMARK.sygus[\"CrCy_10-sbox2-D5-sIn79.sl\"].user_message)"
   ]
  },
  {
   "cell_type": "code",
   "execution_count": null,
   "metadata": {},
   "outputs": [],
   "source": [
    "for filename, problem in CIRCUIT_BENCHMARK.sygus.items():\n",
    "    pprint(filename)\n",
    "    pprint(problem.signature)\n",
    "    pprint(problem.examples)"
   ]
  },
  {
   "cell_type": "code",
   "execution_count": null,
   "metadata": {},
   "outputs": [],
   "source": [
    "CIRCUIT_BENCHMARK.sample_solutions(model=\"gpt-3.5-turbo\", n=20)"
   ]
  },
  {
   "cell_type": "code",
   "execution_count": null,
   "metadata": {},
   "outputs": [],
   "source": [
    "CIRCUIT_BENCHMARK.write(CIRCUIT_OUTPUT_FILE)"
   ]
  },
  {
   "cell_type": "markdown",
   "metadata": {},
   "source": [
    "### Hacker's Delight"
   ]
  },
  {
   "cell_type": "code",
   "execution_count": null,
   "metadata": {},
   "outputs": [],
   "source": [
    "HACKERS_DELIGHT_OUTPUT_FILE = ROOT_DIRECTORY / \"sygus/hackers-delight-completions.gpt-3.5-turbo.json\""
   ]
  },
  {
   "cell_type": "code",
   "execution_count": null,
   "metadata": {},
   "outputs": [],
   "source": [
    "HACKERS_DELIGHT_EXAMPLE_FILE = ROOT_DIRECTORY / \"sygus/io-results-bitvec.json\"\n",
    "HACKERS_DELIGHT_EXAMPLES_JSON = json.loads(HACKERS_DELIGHT_EXAMPLE_FILE.read_text())\n",
    "pprint(HACKERS_DELIGHT_EXAMPLES_JSON[\"hd-08.sl\"])\n",
    "\n",
    "HACKERS_DELIGHT_EXAMPLES = {}\n",
    "\n",
    "for filename, examples in HACKERS_DELIGHT_EXAMPLES_JSON.items():\n",
    "    example_tuples = [\n",
    "        (example[\"inputs\"], example[\"output\"]) for example in examples\n",
    "    ]\n",
    "    HACKERS_DELIGHT_EXAMPLES[filename] = random.sample(example_tuples, 10) if len(example_tuples) > 10 else example_tuples\n",
    "\n",
    "pprint(HACKERS_DELIGHT_EXAMPLES[\"hd-08.sl\"])"
   ]
  },
  {
   "cell_type": "code",
   "execution_count": null,
   "metadata": {},
   "outputs": [],
   "source": [
    "if HACKERS_DELIGHT_OUTPUT_FILE.exists():\n",
    "    HACKERS_DELIGHT_BENCHMARK = SygusBenchmark.read_from_file(HACKERS_DELIGHT_OUTPUT_FILE, HACKERS_DELIGHT_DIRECTORY, HACKERS_DELIGHT_EXAMPLES)\n",
    "else:\n",
    "    HACKERS_DELIGHT_BENCHMARK = SygusBenchmark(\n",
    "        HACKERS_DELIGHT_DIRECTORY, HACKERS_DELIGHT_EXAMPLES\n",
    "    )"
   ]
  },
  {
   "cell_type": "code",
   "execution_count": null,
   "metadata": {},
   "outputs": [],
   "source": [
    "print(HACKERS_DELIGHT_BENCHMARK.sygus[\"hd-08.sl\"].user_message)"
   ]
  },
  {
   "cell_type": "code",
   "execution_count": null,
   "metadata": {},
   "outputs": [],
   "source": [
    "for filename, problem in HACKERS_DELIGHT_BENCHMARK.sygus.items():\n",
    "    pprint(filename)\n",
    "    pprint(problem.signature)\n",
    "    pprint(problem.examples)"
   ]
  },
  {
   "cell_type": "code",
   "execution_count": null,
   "metadata": {},
   "outputs": [],
   "source": [
    "HACKERS_DELIGHT_BENCHMARK.sample_solutions(model=\"gpt-3.5-turbo\", n=20)"
   ]
  },
  {
   "cell_type": "code",
   "execution_count": null,
   "metadata": {},
   "outputs": [],
   "source": [
    "HACKERS_DELIGHT_BENCHMARK.write(HACKERS_DELIGHT_OUTPUT_FILE)"
   ]
  }
 ],
 "metadata": {
  "kernelspec": {
   "display_name": ".venv",
   "language": "python",
   "name": "python3"
  },
  "language_info": {
   "codemirror_mode": {
    "name": "ipython",
    "version": 3
   },
   "file_extension": ".py",
   "mimetype": "text/x-python",
   "name": "python",
   "nbconvert_exporter": "python",
   "pygments_lexer": "ipython3",
   "version": "3.10.12"
  }
 },
 "nbformat": 4,
 "nbformat_minor": 2
}
