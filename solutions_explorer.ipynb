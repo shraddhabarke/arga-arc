{
 "cells": [
  {
   "cell_type": "code",
   "execution_count": 2,
   "metadata": {},
   "outputs": [],
   "source": [
    "import json"
   ]
  },
  {
   "cell_type": "code",
   "execution_count": 20,
   "metadata": {},
   "outputs": [],
   "source": [
    "response = r\"\"\"\n",
    "{\n",
    "    \"nl_description\": \"Extend objects of color Y over empty spaces until they hit an object of color X, without overlapping.\",\n",
    "    \"code\": \"(do\\n    (rule\\n        (vars (this target))\\n        (filter\\n            (and\\n                (color_equals (color_of this) Y)\\n                (size_equals (size_of this) 1)\\n                (size_equals (size_of target) 1)\\n                (neighbor_of this target)\\n                (color_equals (color_of target) X)\\n            )\\n        )\\n        (apply\\n            (extend_node (direction_of target) false)\\n        )\\n    )\\n)\"\n",
    "}\n",
    "\"\"\"\n",
    "\n",
    "# response = r\"\"\"\n",
    "# {\n",
    "#     \"nl_description\": \"Extend objects of color R towards objects of color B, without overlapping.\",\n",
    "#     \"code\": \"(do\\n    (rule\\n        (vars (this x))\\n        (filter\\n            (and\\n                (color_eq (color_of this) R)\\n                (neighbor_of this x)\\n                (color_eq (color_of x) B)\\n            )\\n        )\\n        (apply\\n            (extend_node (direction_of x) false)\\n        )\\n    )\\n)\"\n",
    "# }\n",
    "# \"\"\"\n",
    "\n",
    "# response = r\"\"\"\n",
    "# {\n",
    "#     \"nl_description\": \"Extend all the objects of maximum size by moving them over the grid without overlap.\",\n",
    "#     \"code\": \"(do\\n    (rule\\n        (vars (this x))\\n        (filter\\n            (size_equals (size_of this) max)\\n        )\\n        (apply\\n            (extend_node (direction_of this) true)\\n        )\\n    )\\n)\"\n",
    "# }\n",
    "# \"\"\""
   ]
  },
  {
   "cell_type": "code",
   "execution_count": 21,
   "metadata": {},
   "outputs": [
    {
     "name": "stdout",
     "output_type": "stream",
     "text": [
      "(do\n",
      "    (rule\n",
      "        (vars (this big neighbor))\n",
      "        (filter\n",
      "            (and\n",
      "                (color_equals (color_of this) R)\n",
      "                (and\n",
      "                    (neighbor_of this big)\n",
      "                    (size_equals (size_of big) max)\n",
      "                )\n",
      "            )\n",
      "        )\n",
      "        (apply\n",
      "            (move_node_max (direction_of big))\n",
      "            (update_color\n",
      "                (if\n",
      "                    (neighbor_of this neighbor)\n",
      "                    X\n",
      "                    R\n",
      "                )\n",
      "            )\n",
      "        )\n",
      "    )\n",
      ")\n"
     ]
    }
   ],
   "source": [
    "json_response = json.loads(response)\n",
    "print(json_response[\"code\"])"
   ]
  }
 ],
 "metadata": {
  "kernelspec": {
   "display_name": ".venv",
   "language": "python",
   "name": "python3"
  },
  "language_info": {
   "codemirror_mode": {
    "name": "ipython",
    "version": 3
   },
   "file_extension": ".py",
   "mimetype": "text/x-python",
   "name": "python",
   "nbconvert_exporter": "python",
   "pygments_lexer": "ipython3",
   "version": "3.11.8"
  }
 },
 "nbformat": 4,
 "nbformat_minor": 2
}
